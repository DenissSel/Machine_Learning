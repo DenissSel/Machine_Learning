{
 "cells": [
  {
   "cell_type": "markdown",
   "metadata": {},
   "source": [
    "### Алгоритмы интеллектуальной обработки больших объемов данных\n",
    "## Домашнее задание №3 - Дерево решений\n"
   ]
  },
  {
   "cell_type": "markdown",
   "metadata": {},
   "source": [
    "**Общая информация**\n",
    "\n",
    "**Срок сдачи:** 28 мая 2022, 08:30   \n",
    "**Штраф за опоздание:** по 1 баллу за 24 часа задержки.\n",
    "\n",
    "При отправлении ДЗ указывайте фамилию в названии файла Присылать ДЗ необходимо в виде ссылки на свой github репозиторий на почту ml1.sphere@mail.ru с указанием темы в следующем формате:\n",
    "[ML0221, Задание 3] Фамилия Имя. \n",
    "\n",
    "\n",
    "Используйте данный Ipython Notebook при оформлении домашнего задания."
   ]
  },
  {
   "cell_type": "markdown",
   "metadata": {},
   "source": [
    "##  Реализуем дерево решений (3 балла)"
   ]
  },
  {
   "cell_type": "markdown",
   "metadata": {},
   "source": [
    "Допишите недостающие части дерева решений. Ваша реализация дерева должна работать по точности не хуже DecisionTreeClassifier из sklearn.\n",
    "Внимание: если Вас не устраивает предложенная структура хранения дерева, Вы без потери баллов можете сделать свой класс DecisionTreeClassifier, в котором сами полностью воспроизведете алгоритм дерева решений. Обязательно в нем иметь только функции fit, predict"
   ]
  },
  {
   "cell_type": "code",
   "execution_count": 1053,
   "metadata": {
    "jupyter": {
     "outputs_hidden": true
    }
   },
   "outputs": [],
   "source": [
    "import matplotlib.pyplot as plt\n",
    "import numpy as np\n",
    "import pandas as pd\n",
    "\n",
    "from sklearn.datasets import load_wine\n",
    "from sklearn.ensemble import RandomForestClassifier\n",
    "from sklearn.metrics import accuracy_score\n",
    "from sklearn.model_selection import KFold, train_test_split, GridSearchCV, RandomizedSearchCV\n",
    "from sklearn.tree import DecisionTreeClassifier\n"
   ]
  },
  {
   "cell_type": "code",
   "execution_count": 1054,
   "metadata": {
    "jupyter": {
     "outputs_hidden": true
    }
   },
   "outputs": [],
   "source": [
    "class MyDecisionTreeClassifier:\n",
    "    NON_LEAF_TYPE = 0\n",
    "    LEAF_TYPE = 1\n",
    "\n",
    "    def __init__(self, min_samples_split=1, max_depth=5, criterion='gini'):\n",
    "        \"\"\"\n",
    "        criterion -- критерий расщепления. необходимо релизовать три:\n",
    "        Ошибка классификации, Индекс Джини, Энтропийный критерий\n",
    "        max_depth -- максимальная глубина дерева\n",
    "        min_samples_split -- минимальное число объектов в листе, чтобы сделать новый сплит\n",
    "        \"\"\"\n",
    "        self.min_samples_split = min_samples_split\n",
    "        self.max_depth = max_depth\n",
    "        self.num_class = -1\n",
    "        # Для последнего задания\n",
    "        self.feature_importances_ = {}\n",
    "        self.criterion = criterion\n",
    "        # Структура, которая описывает дерево\n",
    "        # Представляет словарь, где для  node_id (айдишник узла дерева) храним\n",
    "        # (тип_узла, айдишник признака сплита, порог сплита) если тип NON_LEAF_TYPE\n",
    "        # (тип_узла, предсказание класса, вероятность класса) если тип LEAF_TYPE\n",
    "        # Подразумевается, что у каждого node_id в дереве слева \n",
    "        # узел с айди 2 * node_id + 1, а справа 2 * node_id + 2\n",
    "        self.tree = dict()\n",
    "\n",
    "    def __div_samples(self, x, y, feature_id, threshold):\n",
    "        \"\"\"\n",
    "        Разделяет объекты на 2 множества\n",
    "        x -- матрица объектов\n",
    "        y -- вектор ответов\n",
    "        feature_id -- айдишник признака, по которому делаем сплит\n",
    "        threshold -- порог, по которому делаем сплит\n",
    "        \"\"\"\n",
    "        left_mask = x[:, feature_id] > threshold\n",
    "        right_mask = ~left_mask\n",
    "        return x[left_mask], x[right_mask], y[left_mask], y[right_mask]\n",
    "        \n",
    "        \n",
    "        \n",
    "    def __find_threshold(self, X, y):\n",
    "        \"\"\"\n",
    "        Находим оптимальный признак и порог для сплита\n",
    "        Здесь используемые разные impurity в зависимости от self.criterion\n",
    "        \"\"\"\n",
    "        # Ваш код здесь\n",
    "        \n",
    "        ideal_col = None\n",
    "        ideal_threshold = None\n",
    "\n",
    "        # Check to see if there are at least 1 observations\n",
    "        num_observations = y.size\n",
    "        classes = np.arange(self.num_class)\n",
    "        if num_observations <= 1:\n",
    "            return ideal_col, ideal_threshold\n",
    "        \n",
    "        # Reshape y back to shape (y.size,)\n",
    "        y = y.reshape(num_observations,)\n",
    "        \n",
    "        # Find the count of each class for use in Gini calc later\n",
    "            # To avoid warning message + future issues:\n",
    "                #  locked the numpy and python versions\n",
    "                #  suppress warning with default warnings library (still runs without it)\n",
    "        \n",
    "        count_in_parent = [np.count_nonzero(y == c) for c in range(self.num_class)]\n",
    "\n",
    "        # Set default value of best_gini to the gini impurity value of the parent node\n",
    "            # Good article on gini impurity here: https://victorzhou.com/blog/gini-impurity/\n",
    "        best_gini = 1.0 - sum((n / num_observations) ** 2 for n in count_in_parent)\n",
    "\n",
    "        # Create a temp version of Y in the right shape for concatenating\n",
    "        temp_y = y.reshape(y.shape[0],1)\n",
    "        # Loop through the columns in X\n",
    "        # Sort X and y by values of X in each column\n",
    "            # Allows us to more easily find the ideal threshold\n",
    "                # Better time complexity -> https://towardsdatascience.com/decision-tree-from-scratch-in-python-46e99dfea775\n",
    "        for col in range(self.num_features):\n",
    "            # Create a temp version of X[:,col] in the right shape for concatenating\n",
    "            temp_X = X[:,col].reshape(num_observations,1)\n",
    "            # Concatenate temp_X and temp_y\n",
    "            all_data = np.concatenate((temp_X,temp_y), axis=1)\n",
    "            # Sort the data using the colum with the feature/X value\n",
    "            sorted_data = all_data[np.argsort(all_data[:,0])]\n",
    "            # Split the data back into X and y, or threshold and classes values\n",
    "            thresholds, obs_classes = np.array_split(sorted_data, 2, axis = 1)\n",
    "            # Make sure observed classes are integers\n",
    "            obs_classes = obs_classes.astype(int)\n",
    "            \n",
    "            # Keep track of how many of each class are going to each child node\n",
    "                # Default is 0 of all classes to left and everything to right\n",
    "            num_left = [0] * self.num_class\n",
    "            num_right = count_in_parent.copy()\n",
    "            # Loop through all observations in the node to efficiently find\n",
    "            # ideal threshold and class that minimizes Gini impurities of child nodes\n",
    "            for i in range(1, num_observations):\n",
    "                class_ = obs_classes[i - 1][0]\n",
    "                num_left[class_] += 1\n",
    "                num_right[class_] -= 1\n",
    "                if self.criterion == 'gini':\n",
    "                    cur_left = 1.0 - sum((num_left[x] / i) ** 2 for x in range(self.num_class))\n",
    "                    cur_right = 1.0 - sum((num_right[x] / (num_observations - i)) ** 2 \n",
    "                                                          for x in range(self.num_class))\n",
    "                elif self.criterion == 'entropy': \n",
    "                    cur_left = - sum((num_left[x] / i) * np.log(num_left[x] / i) if num_left[x] > 0 else 0 for x in range(self.num_class))\n",
    "                    cur_right = - sum((num_right[x] / (num_observations - i)) * np.log(num_right[x] / (num_observations - i)) \n",
    "                                                          if num_left[x] > 0 else 0 for x in range(self.num_class))\n",
    "                elif self.criterion == 'misclassify':\n",
    "                    cur_left = 1.0 - max(num_left[x] / i for x in range(self.num_class))\n",
    "                    cur_right = 1.0 - max((num_right[x] / \n",
    "                                                          (num_observations - i)) \n",
    "                                                          for x in range(self.num_class))\n",
    "                gini = (i * cur_left + (num_observations - i) * cur_right) / num_observations\n",
    "                # Go to the next i if i == i - 1\n",
    "                    # Avoids making a split where two values are equal\n",
    "                if thresholds[i][0] == thresholds[i - 1][0]:\n",
    "                    continue\n",
    "                # If gini is better than best_gini, re-assign ideals\n",
    "                if gini < best_gini:\n",
    "                    best_gini = gini\n",
    "                    ideal_col = col\n",
    "                    Q = gini\n",
    "                    # Get the midpoint between i-th value and previous value\n",
    "                    ideal_threshold = (thresholds[i][0] + thresholds[i - 1][0]) / 2\n",
    "        if self.criterion == 'gini':\n",
    "            cur = 1.0 - sum((count_in_parent[x] / num_observations) ** 2 for x in range(self.num_class))\n",
    "            \n",
    "        elif self.criterion == 'entropy': \n",
    "            cur = - sum((count_in_parent[x] / num_observations) * np.log(num_left[x] / num_observations) if num_left[x] > 0 else 0 for x in range(self.num_class))\n",
    "            \n",
    "        elif self.criterion == 'misclassify':\n",
    "            cur = 1.0 - max(count_in_parent[x] / num_observations for x in range(self.num_class))\n",
    "        if ideal_col not in self.feature_importances_:\n",
    "            self.feature_importances_[ideal_col] = cur - Q\n",
    "        else:\n",
    "            self.feature_importances_[ideal_col] += cur - Q\n",
    "        return ideal_col, ideal_threshold\n",
    "\n",
    "\n",
    "    def __fit_node(self, x, y, node_id, depth):\n",
    "        \"\"\"\n",
    "        Делаем новый узел в дереве\n",
    "        Решаем, терминальный он или нет\n",
    "        Если нет, то строим левый узел  с айди 2 * node_id + 1\n",
    "        И правый узел с  айди 2 * node_id + 2\n",
    "        \"\"\"\n",
    "        if depth >= self.max_depth or x.shape[0] < self.min_samples_split or np.unique(y).size == 1:\n",
    "            temp = np.bincount(y)\n",
    "            ans = temp.argmax()\n",
    "            prob = temp / y.shape[0]\n",
    "            # print(y, ans)\n",
    "            self.tree[node_id] = [self.LEAF_TYPE, ans, prob]\n",
    "        else:\n",
    "            feature, val = self.__find_threshold(x, y)\n",
    "            X_left, X_right, y_left, y_right = self.__div_samples(x, y, feature, val)\n",
    "            # print(y_left.shape[0], y_right.shape[0])\n",
    "            self.tree[node_id] = [self.NON_LEAF_TYPE, feature, val]\n",
    "            self.__fit_node(X_left, y_left, 2 * node_id + 1, depth + 1) \n",
    "            self.__fit_node(X_right, y_right, 2 * node_id + 2, depth + 1) \n",
    "        \n",
    "    \n",
    "    def fit(self, x, y):\n",
    "        \"\"\"\n",
    "        Рекурсивно строим дерево решений\n",
    "        Начинаем с корня node_id 0\n",
    "        \"\"\"\n",
    "        self.classes = np.unique(y)\n",
    "        self.num_features = x.shape[1]\n",
    "        self.num_class = self.classes.size\n",
    "        \n",
    "        self.__fit_node(x, y, 0, 0) \n",
    "        \n",
    "\n",
    "    def __predict_class(self, x, node_id):\n",
    "        \"\"\"\n",
    "        Рекурсивно обходим дерево по всем узлам,\n",
    "        пока не дойдем до терминального\n",
    "        \"\"\"\n",
    "        node = self.tree[node_id]\n",
    "        if node[0] == self.__class__.NON_LEAF_TYPE:\n",
    "            _, feature_id, threshold = node\n",
    "            if x[feature_id] > threshold:\n",
    "                return self.__predict_class(x, 2 * node_id + 1)\n",
    "            else:\n",
    "                return self.__predict_class(x, 2 * node_id + 2)\n",
    "        else:\n",
    "            return node[1]\n",
    "        \n",
    "    def predict(self, X):\n",
    "        \"\"\"\n",
    "        Вызывает predict для всех объектов из матрицы X\n",
    "        \"\"\"\n",
    "        return np.array([self.__predict_class(x, 0) for x in X])\n",
    "    \n",
    "    def fit_predict(self, x_train, y_train, predicted_x):\n",
    "        self.fit(x_train, y_train)\n",
    "        return self.predict(predicted_x)\n",
    "    \n",
    "    def get_feature_importance(self):\n",
    "        \"\"\"\n",
    "        Возвращает важность признаков\n",
    "        \"\"\"\n",
    "        return self.feature_importances_\n",
    "        \n",
    "my_clf = MyDecisionTreeClassifier(min_samples_split=2, criterion = 'gini')"
   ]
  },
  {
   "cell_type": "code",
   "execution_count": 1056,
   "metadata": {},
   "outputs": [
    {
     "data": {
      "text/plain": [
       "14"
      ]
     },
     "execution_count": 1056,
     "metadata": {},
     "output_type": "execute_result"
    }
   ],
   "source": [
    "a = np.arange(3)\n",
    "b = np.asarray([1, 2, 3])\n",
    "np.sum(b[a] ** 2)"
   ]
  },
  {
   "cell_type": "code",
   "execution_count": 1059,
   "metadata": {},
   "outputs": [
    {
     "data": {
      "text/plain": [
       "{0: [0, 9, 3.46],\n",
       " 1: [0, 6, 1.58],\n",
       " 3: [0, 12, 724.5],\n",
       " 7: [1, 0, array([1.])],\n",
       " 15: [0, 194, 22.5],\n",
       " 31: [1, 0, array([1.])],\n",
       " 32: [1, 1, array([0.11940299, 0.88059701])],\n",
       " 16: [0, 5, 22834.0],\n",
       " 33: [1, 1, array([0.2, 0.8])],\n",
       " 34: [1, 0, array([1.])],\n",
       " 8: [0, 1, 3.92],\n",
       " 17: [1, 0, array([1.])],\n",
       " 35: [1, 1, array([0.44642857, 0.55357143])],\n",
       " 36: [1, 1, array([0.13636364, 0.86363636])],\n",
       " 18: [1, 1, array([0., 1.])],\n",
       " 37: [1, 1, array([0.375, 0.625])],\n",
       " 38: [1, 0, array([0.68224299, 0.31775701])],\n",
       " 4: [0, 10, 0.97],\n",
       " 9: [1, 1, array([0., 1.])],\n",
       " 19: [0, 129, 22.5],\n",
       " 39: [1, 0, array([0.70748299, 0.29251701])],\n",
       " 40: [1, 1, array([0.36842105, 0.63157895])],\n",
       " 20: [0, 42, 18.0],\n",
       " 41: [1, 0, array([0.875, 0.125])],\n",
       " 42: [1, 1, array([0.03333333, 0.96666667])],\n",
       " 10: [1, 2, array([0., 0., 1.])],\n",
       " 21: [0, 38, 8.5],\n",
       " 43: [1, 0, array([0.52, 0.48])],\n",
       " 44: [1, 0, array([0.88, 0.12])],\n",
       " 22: [0, 166, 1.75],\n",
       " 45: [1, 0, array([0.65506329, 0.34493671])],\n",
       " 46: [1, 0, array([0.83522727, 0.16477273])],\n",
       " 2: [1, 1, array([0., 1.])]}"
      ]
     },
     "execution_count": 1059,
     "metadata": {},
     "output_type": "execute_result"
    }
   ],
   "source": [
    "my_clf.tree"
   ]
  },
  {
   "cell_type": "code",
   "execution_count": 1060,
   "metadata": {},
   "outputs": [
    {
     "data": {
      "text/plain": [
       "array([1.233e+01, 1.100e+00, 2.280e+00, 1.600e+01, 1.010e+02, 2.050e+00,\n",
       "       1.090e+00, 6.300e-01, 4.100e-01, 3.270e+00, 1.250e+00, 1.670e+00,\n",
       "       6.800e+02])"
      ]
     },
     "execution_count": 1060,
     "metadata": {},
     "output_type": "execute_result"
    }
   ],
   "source": [
    "X_test[9,:]"
   ]
  },
  {
   "cell_type": "code",
   "execution_count": 1061,
   "metadata": {},
   "outputs": [
    {
     "data": {
      "text/plain": [
       "(array([1, 2, 0, 2, 0, 0, 0, 1, 2, 1, 2, 2, 1, 1, 0, 0, 1, 1]),\n",
       " array([1, 2, 0, 2, 0, 0, 0, 1, 2, 1, 2, 2, 1, 1, 0, 0, 1, 1]))"
      ]
     },
     "execution_count": 1061,
     "metadata": {},
     "output_type": "execute_result"
    }
   ],
   "source": [
    "y_pred=clf.predict(X_test)\n",
    "y_pred, y_test"
   ]
  },
  {
   "cell_type": "code",
   "execution_count": 979,
   "metadata": {
    "jupyter": {
     "outputs_hidden": true
    }
   },
   "outputs": [],
   "source": [
    "my_clf = MyDecisionTreeClassifier(min_samples_split=2)\n",
    "clf = DecisionTreeClassifier(min_samples_split=2, max_depth=5)"
   ]
  },
  {
   "cell_type": "code",
   "execution_count": 1089,
   "metadata": {
    "jupyter": {
     "outputs_hidden": true
    }
   },
   "outputs": [],
   "source": [
    "wine = load_wine()\n",
    "X_train, X_test, y_train, y_test = train_test_split(wine.data, wine.target, test_size=0.1, stratify=wine.target)"
   ]
  },
  {
   "cell_type": "code",
   "execution_count": 1058,
   "metadata": {},
   "outputs": [
    {
     "data": {
      "text/plain": [
       "DecisionTreeClassifier(max_depth=5)"
      ]
     },
     "execution_count": 1058,
     "metadata": {},
     "output_type": "execute_result"
    }
   ],
   "source": [
    "my_clf.fit(X_train, y_train)\n",
    "clf.fit(X_train, y_train)"
   ]
  },
  {
   "cell_type": "code",
   "execution_count": 1062,
   "metadata": {},
   "outputs": [
    {
     "name": "stdout",
     "output_type": "stream",
     "text": [
      "1.0\n",
      "1.0\n"
     ]
    }
   ],
   "source": [
    "print(accuracy_score(y_pred=clf.predict(X_test), y_true=y_test))\n",
    "print(accuracy_score(y_pred=my_clf.predict(X_test), y_true=y_test))"
   ]
  },
  {
   "cell_type": "code",
   "execution_count": 1063,
   "metadata": {},
   "outputs": [
    {
     "data": {
      "text/plain": [
       "{0: [0, 9, 3.46],\n",
       " 1: [0, 6, 1.58],\n",
       " 3: [0, 12, 724.5],\n",
       " 7: [1, 0, array([1.])],\n",
       " 15: [0, 194, 22.5],\n",
       " 31: [1, 0, array([1.])],\n",
       " 32: [1, 1, array([0.11940299, 0.88059701])],\n",
       " 16: [0, 5, 22834.0],\n",
       " 33: [1, 1, array([0.2, 0.8])],\n",
       " 34: [1, 0, array([1.])],\n",
       " 8: [0, 1, 3.92],\n",
       " 17: [1, 0, array([1.])],\n",
       " 35: [1, 1, array([0.44642857, 0.55357143])],\n",
       " 36: [1, 1, array([0.13636364, 0.86363636])],\n",
       " 18: [1, 1, array([0., 1.])],\n",
       " 37: [1, 1, array([0.375, 0.625])],\n",
       " 38: [1, 0, array([0.68224299, 0.31775701])],\n",
       " 4: [0, 10, 0.97],\n",
       " 9: [1, 1, array([0., 1.])],\n",
       " 19: [0, 129, 22.5],\n",
       " 39: [1, 0, array([0.70748299, 0.29251701])],\n",
       " 40: [1, 1, array([0.36842105, 0.63157895])],\n",
       " 20: [0, 42, 18.0],\n",
       " 41: [1, 0, array([0.875, 0.125])],\n",
       " 42: [1, 1, array([0.03333333, 0.96666667])],\n",
       " 10: [1, 2, array([0., 0., 1.])],\n",
       " 21: [0, 38, 8.5],\n",
       " 43: [1, 0, array([0.52, 0.48])],\n",
       " 44: [1, 0, array([0.88, 0.12])],\n",
       " 22: [0, 166, 1.75],\n",
       " 45: [1, 0, array([0.65506329, 0.34493671])],\n",
       " 46: [1, 0, array([0.83522727, 0.16477273])],\n",
       " 2: [1, 1, array([0., 1.])]}"
      ]
     },
     "execution_count": 1063,
     "metadata": {},
     "output_type": "execute_result"
    }
   ],
   "source": [
    "my_clf.tree"
   ]
  },
  {
   "cell_type": "code",
   "execution_count": 1064,
   "metadata": {},
   "outputs": [
    {
     "name": "stdout",
     "output_type": "stream",
     "text": [
      "{30: 0.0600074788267565, 166: 0.039645458506090525, 106: 0.02567393263143386, 174: 0.045791621093795476, 194: 0.04365068168922223, 5: 0.32000000000000006, 38: 0.048204059513585557, 52: 0.03162463648846697, 215: 0.01860135508676025, 156: 0.014980795913853096, 163: 0.0516255630410139, 129: 0.03752714772426202, 42: 0.23548014773776532, 14: 0.009419043287790585, 9: 0.25357439793577974, 6: 0.3915103129179175, 12: 0.25602213541666663, 1: 0.1527777777777779, 10: 0.08493827160493828}\n"
     ]
    }
   ],
   "source": [
    "print(my_clf.get_feature_importance())"
   ]
  },
  {
   "cell_type": "code",
   "execution_count": 1065,
   "metadata": {},
   "outputs": [
    {
     "data": {
      "text/plain": [
       "array([1, 2, 0, 2, 0, 0, 0, 1, 2, 1, 2, 2, 1, 1, 0, 0, 1, 1])"
      ]
     },
     "execution_count": 1065,
     "metadata": {},
     "output_type": "execute_result"
    }
   ],
   "source": [
    "my_clf.fit(X_train, y_train)\n",
    "y_pred=my_clf.predict(X_test)\n",
    "y_pred"
   ]
  },
  {
   "cell_type": "code",
   "execution_count": 1066,
   "metadata": {},
   "outputs": [
    {
     "data": {
      "text/plain": [
       "array([1, 2, 0, 2, 0, 0, 0, 1, 2, 1, 2, 2, 1, 1, 0, 0, 1, 1])"
      ]
     },
     "execution_count": 1066,
     "metadata": {},
     "output_type": "execute_result"
    }
   ],
   "source": [
    "clf.fit(X_train, y_train)\n",
    "y_pred=clf.predict(X_test)\n",
    "y_pred"
   ]
  },
  {
   "cell_type": "code",
   "execution_count": 1067,
   "metadata": {
    "jupyter": {
     "outputs_hidden": true
    }
   },
   "outputs": [
    {
     "name": "stdout",
     "output_type": "stream",
     "text": [
      "1.0\n",
      "1.0\n"
     ]
    }
   ],
   "source": [
    "print(accuracy_score(y_pred=clf.predict(X_test), y_true=y_test))\n",
    "print(accuracy_score(y_pred=my_clf.predict(X_test), y_true=y_test))"
   ]
  },
  {
   "cell_type": "code",
   "execution_count": 1068,
   "metadata": {},
   "outputs": [
    {
     "data": {
      "text/plain": [
       "178"
      ]
     },
     "execution_count": 1068,
     "metadata": {},
     "output_type": "execute_result"
    }
   ],
   "source": [
    "wine.target.shape[0]"
   ]
  },
  {
   "cell_type": "markdown",
   "metadata": {},
   "source": [
    "## Ускоряем дерево решений (2 балла)\n",
    "Добиться скорости работы на fit не медленнее чем в 10 раз sklearn на данных wine. \n",
    "Для этого используем numpy."
   ]
  },
  {
   "cell_type": "code",
   "execution_count": 1104,
   "metadata": {
    "jupyter": {
     "outputs_hidden": true
    },
    "scrolled": true
   },
   "outputs": [
    {
     "name": "stdout",
     "output_type": "stream",
     "text": [
      "CPU times: user 6.87 ms, sys: 540 µs, total: 7.41 ms\n",
      "Wall time: 3.99 ms\n"
     ]
    },
    {
     "data": {
      "text/plain": [
       "DecisionTreeClassifier(max_depth=5)"
      ]
     },
     "execution_count": 1104,
     "metadata": {},
     "output_type": "execute_result"
    }
   ],
   "source": [
    "%time clf.fit(X_train, y_train)"
   ]
  },
  {
   "cell_type": "code",
   "execution_count": 1105,
   "metadata": {
    "jupyter": {
     "outputs_hidden": true
    }
   },
   "outputs": [
    {
     "name": "stdout",
     "output_type": "stream",
     "text": [
      "CPU times: user 39.2 ms, sys: 145 µs, total: 39.3 ms\n",
      "Wall time: 35 ms\n"
     ]
    }
   ],
   "source": [
    "%time my_clf.fit(X_train, y_train)"
   ]
  },
  {
   "cell_type": "code",
   "execution_count": null,
   "metadata": {
    "jupyter": {
     "outputs_hidden": true
    }
   },
   "outputs": [],
   "source": []
  },
  {
   "cell_type": "markdown",
   "metadata": {},
   "source": [
    "## Боевое применение (3 балла)\n",
    "\n",
    "На практике Вы познакомились с датасетом Speed Dating Data. В нем каждая пара в быстрых свиданиях характеризуется определенным набором признаков. Задача -- предсказать, произойдет ли матч пары (колонка match). \n",
    "\n",
    "Пример работы с датасетом можете найти в практике пункт 2\n",
    "https://github.com/VVVikulin/ml1.sphere/blob/master/2019-09/lecture_06/pract-trees.ipynb\n",
    "\n",
    "Данные и описания колонок лежат тут\n",
    "https://cloud.mail.ru/public/8nHV/p6J7wY1y1/speed-dating-experiment/"
   ]
  },
  {
   "cell_type": "markdown",
   "metadata": {},
   "source": [
    "Скачайте датасет, обработайте данные, как показано на семинаре или своим собственным способом. Обучите дерево классифкации. В качестве таргета возьмите колонку 'match'. Постарайтесь хорошо обработать признаки, чтобы выбить максимальную точность. Если точность будет близка к случайному гаданию, задание не будет защитано. \n"
   ]
  },
  {
   "cell_type": "code",
   "execution_count": 1106,
   "metadata": {
    "jupyter": {
     "outputs_hidden": true
    }
   },
   "outputs": [],
   "source": [
    "df = pd.read_csv('Speed Dating Data.csv', encoding='latin1')"
   ]
  },
  {
   "cell_type": "code",
   "execution_count": 1107,
   "metadata": {},
   "outputs": [
    {
     "data": {
      "text/html": [
       "<div>\n",
       "<style scoped>\n",
       "    .dataframe tbody tr th:only-of-type {\n",
       "        vertical-align: middle;\n",
       "    }\n",
       "\n",
       "    .dataframe tbody tr th {\n",
       "        vertical-align: top;\n",
       "    }\n",
       "\n",
       "    .dataframe thead th {\n",
       "        text-align: right;\n",
       "    }\n",
       "</style>\n",
       "<table border=\"1\" class=\"dataframe\">\n",
       "  <thead>\n",
       "    <tr style=\"text-align: right;\">\n",
       "      <th></th>\n",
       "      <th>iid</th>\n",
       "      <th>id</th>\n",
       "      <th>gender</th>\n",
       "      <th>idg</th>\n",
       "      <th>condtn</th>\n",
       "      <th>wave</th>\n",
       "      <th>round</th>\n",
       "      <th>position</th>\n",
       "      <th>positin1</th>\n",
       "      <th>order</th>\n",
       "      <th>...</th>\n",
       "      <th>attr3_3</th>\n",
       "      <th>sinc3_3</th>\n",
       "      <th>intel3_3</th>\n",
       "      <th>fun3_3</th>\n",
       "      <th>amb3_3</th>\n",
       "      <th>attr5_3</th>\n",
       "      <th>sinc5_3</th>\n",
       "      <th>intel5_3</th>\n",
       "      <th>fun5_3</th>\n",
       "      <th>amb5_3</th>\n",
       "    </tr>\n",
       "  </thead>\n",
       "  <tbody>\n",
       "    <tr>\n",
       "      <th>0</th>\n",
       "      <td>1</td>\n",
       "      <td>1.0</td>\n",
       "      <td>0</td>\n",
       "      <td>1</td>\n",
       "      <td>1</td>\n",
       "      <td>1</td>\n",
       "      <td>10</td>\n",
       "      <td>7</td>\n",
       "      <td>NaN</td>\n",
       "      <td>4</td>\n",
       "      <td>...</td>\n",
       "      <td>5.0</td>\n",
       "      <td>7.0</td>\n",
       "      <td>7.0</td>\n",
       "      <td>7.0</td>\n",
       "      <td>7.0</td>\n",
       "      <td>NaN</td>\n",
       "      <td>NaN</td>\n",
       "      <td>NaN</td>\n",
       "      <td>NaN</td>\n",
       "      <td>NaN</td>\n",
       "    </tr>\n",
       "    <tr>\n",
       "      <th>1</th>\n",
       "      <td>1</td>\n",
       "      <td>1.0</td>\n",
       "      <td>0</td>\n",
       "      <td>1</td>\n",
       "      <td>1</td>\n",
       "      <td>1</td>\n",
       "      <td>10</td>\n",
       "      <td>7</td>\n",
       "      <td>NaN</td>\n",
       "      <td>3</td>\n",
       "      <td>...</td>\n",
       "      <td>5.0</td>\n",
       "      <td>7.0</td>\n",
       "      <td>7.0</td>\n",
       "      <td>7.0</td>\n",
       "      <td>7.0</td>\n",
       "      <td>NaN</td>\n",
       "      <td>NaN</td>\n",
       "      <td>NaN</td>\n",
       "      <td>NaN</td>\n",
       "      <td>NaN</td>\n",
       "    </tr>\n",
       "    <tr>\n",
       "      <th>2</th>\n",
       "      <td>1</td>\n",
       "      <td>1.0</td>\n",
       "      <td>0</td>\n",
       "      <td>1</td>\n",
       "      <td>1</td>\n",
       "      <td>1</td>\n",
       "      <td>10</td>\n",
       "      <td>7</td>\n",
       "      <td>NaN</td>\n",
       "      <td>10</td>\n",
       "      <td>...</td>\n",
       "      <td>5.0</td>\n",
       "      <td>7.0</td>\n",
       "      <td>7.0</td>\n",
       "      <td>7.0</td>\n",
       "      <td>7.0</td>\n",
       "      <td>NaN</td>\n",
       "      <td>NaN</td>\n",
       "      <td>NaN</td>\n",
       "      <td>NaN</td>\n",
       "      <td>NaN</td>\n",
       "    </tr>\n",
       "    <tr>\n",
       "      <th>3</th>\n",
       "      <td>1</td>\n",
       "      <td>1.0</td>\n",
       "      <td>0</td>\n",
       "      <td>1</td>\n",
       "      <td>1</td>\n",
       "      <td>1</td>\n",
       "      <td>10</td>\n",
       "      <td>7</td>\n",
       "      <td>NaN</td>\n",
       "      <td>5</td>\n",
       "      <td>...</td>\n",
       "      <td>5.0</td>\n",
       "      <td>7.0</td>\n",
       "      <td>7.0</td>\n",
       "      <td>7.0</td>\n",
       "      <td>7.0</td>\n",
       "      <td>NaN</td>\n",
       "      <td>NaN</td>\n",
       "      <td>NaN</td>\n",
       "      <td>NaN</td>\n",
       "      <td>NaN</td>\n",
       "    </tr>\n",
       "    <tr>\n",
       "      <th>4</th>\n",
       "      <td>1</td>\n",
       "      <td>1.0</td>\n",
       "      <td>0</td>\n",
       "      <td>1</td>\n",
       "      <td>1</td>\n",
       "      <td>1</td>\n",
       "      <td>10</td>\n",
       "      <td>7</td>\n",
       "      <td>NaN</td>\n",
       "      <td>7</td>\n",
       "      <td>...</td>\n",
       "      <td>5.0</td>\n",
       "      <td>7.0</td>\n",
       "      <td>7.0</td>\n",
       "      <td>7.0</td>\n",
       "      <td>7.0</td>\n",
       "      <td>NaN</td>\n",
       "      <td>NaN</td>\n",
       "      <td>NaN</td>\n",
       "      <td>NaN</td>\n",
       "      <td>NaN</td>\n",
       "    </tr>\n",
       "  </tbody>\n",
       "</table>\n",
       "<p>5 rows × 195 columns</p>\n",
       "</div>"
      ],
      "text/plain": [
       "   iid   id  gender  idg  condtn  wave  round  position  positin1  order  ...  \\\n",
       "0    1  1.0       0    1       1     1     10         7       NaN      4  ...   \n",
       "1    1  1.0       0    1       1     1     10         7       NaN      3  ...   \n",
       "2    1  1.0       0    1       1     1     10         7       NaN     10  ...   \n",
       "3    1  1.0       0    1       1     1     10         7       NaN      5  ...   \n",
       "4    1  1.0       0    1       1     1     10         7       NaN      7  ...   \n",
       "\n",
       "   attr3_3  sinc3_3  intel3_3  fun3_3  amb3_3  attr5_3  sinc5_3  intel5_3  \\\n",
       "0      5.0      7.0       7.0     7.0     7.0      NaN      NaN       NaN   \n",
       "1      5.0      7.0       7.0     7.0     7.0      NaN      NaN       NaN   \n",
       "2      5.0      7.0       7.0     7.0     7.0      NaN      NaN       NaN   \n",
       "3      5.0      7.0       7.0     7.0     7.0      NaN      NaN       NaN   \n",
       "4      5.0      7.0       7.0     7.0     7.0      NaN      NaN       NaN   \n",
       "\n",
       "   fun5_3  amb5_3  \n",
       "0     NaN     NaN  \n",
       "1     NaN     NaN  \n",
       "2     NaN     NaN  \n",
       "3     NaN     NaN  \n",
       "4     NaN     NaN  \n",
       "\n",
       "[5 rows x 195 columns]"
      ]
     },
     "execution_count": 1107,
     "metadata": {},
     "output_type": "execute_result"
    }
   ],
   "source": [
    "df.head()"
   ]
  },
  {
   "cell_type": "code",
   "execution_count": 1108,
   "metadata": {},
   "outputs": [
    {
     "name": "stdout",
     "output_type": "stream",
     "text": [
      "551\n"
     ]
    }
   ],
   "source": [
    "print(df.iid.nunique())\n",
    "df = df.drop(['id'], axis=1)\n",
    "df = df.drop(['idg'], axis=1)"
   ]
  },
  {
   "cell_type": "code",
   "execution_count": 1109,
   "metadata": {},
   "outputs": [
    {
     "data": {
      "text/plain": [
       "2    386\n",
       "1    165\n",
       "Name: condtn, dtype: int64"
      ]
     },
     "execution_count": 1109,
     "metadata": {},
     "output_type": "execute_result"
    }
   ],
   "source": [
    "df.drop_duplicates(subset=['iid']).gender.value_counts()\n",
    "df.drop_duplicates(subset=['iid']).condtn.value_counts()"
   ]
  },
  {
   "cell_type": "code",
   "execution_count": 1110,
   "metadata": {},
   "outputs": [],
   "source": [
    "df = df.drop(['condtn'], axis=1)"
   ]
  },
  {
   "cell_type": "code",
   "execution_count": 1111,
   "metadata": {},
   "outputs": [],
   "source": [
    "df = df.drop(['round'], axis=1)"
   ]
  },
  {
   "cell_type": "code",
   "execution_count": 1112,
   "metadata": {},
   "outputs": [],
   "source": [
    "df = df.drop(['position', 'positin1'], axis=1)"
   ]
  },
  {
   "cell_type": "code",
   "execution_count": 1113,
   "metadata": {},
   "outputs": [],
   "source": [
    "df = df.drop(['order'], axis=1)\n"
   ]
  },
  {
   "cell_type": "code",
   "execution_count": 1114,
   "metadata": {
    "scrolled": true
   },
   "outputs": [],
   "source": [
    "df = df.drop(['partner'], axis=1)"
   ]
  },
  {
   "cell_type": "code",
   "execution_count": 1115,
   "metadata": {},
   "outputs": [
    {
     "data": {
      "text/plain": [
       "(8378, 187)"
      ]
     },
     "execution_count": 1115,
     "metadata": {},
     "output_type": "execute_result"
    }
   ],
   "source": [
    "df.shape"
   ]
  },
  {
   "cell_type": "code",
   "execution_count": 1116,
   "metadata": {},
   "outputs": [],
   "source": [
    "df = df.drop(['age_o', 'race_o', 'pf_o_att', \n",
    "              'pf_o_sin', 'pf_o_int',\n",
    "              'pf_o_fun', 'pf_o_amb', 'pf_o_sha',\n",
    "              'dec_o', 'attr_o', 'sinc_o', 'intel_o', 'fun_o',\n",
    "              'amb_o', 'shar_o', 'like_o', 'prob_o','met_o'], \n",
    "             axis=1)"
   ]
  },
  {
   "cell_type": "code",
   "execution_count": 1117,
   "metadata": {},
   "outputs": [
    {
     "data": {
      "text/plain": [
       "<AxesSubplot:>"
      ]
     },
     "execution_count": 1117,
     "metadata": {},
     "output_type": "execute_result"
    },
    {
     "data": {
      "image/png": "[encoded data removed]",
      "text/plain": [
       "<Figure size 432x288 with 1 Axes>"
      ]
     },
     "metadata": {
      "needs_background": "light"
     },
     "output_type": "display_data"
    }
   ],
   "source": [
    "df.drop_duplicates(subset=['iid']).age.hist(bins=20)"
   ]
  },
  {
   "cell_type": "code",
   "execution_count": 1118,
   "metadata": {},
   "outputs": [],
   "source": [
    "df = df.dropna(subset=['age'])"
   ]
  },
  {
   "cell_type": "code",
   "execution_count": 1119,
   "metadata": {},
   "outputs": [],
   "source": [
    "df = df.drop(['undergra'], axis=1)"
   ]
  },
  {
   "cell_type": "code",
   "execution_count": 1120,
   "metadata": {},
   "outputs": [],
   "source": [
    "df = df.drop(['sports','tvsports','exercise','dining','museums','art','hiking','gaming',\n",
    "       'clubbing','reading','tv','theater','movies','concerts','music','shopping','yoga'], axis=1)"
   ]
  },
  {
   "cell_type": "code",
   "execution_count": 1121,
   "metadata": {},
   "outputs": [],
   "source": [
    "df = df.drop(['expnum'], axis=1)"
   ]
  },
  {
   "cell_type": "code",
   "execution_count": 1122,
   "metadata": {},
   "outputs": [],
   "source": [
    "df = df.drop(['from', 'zipcode'], axis=1)"
   ]
  },
  {
   "cell_type": "code",
   "execution_count": 1123,
   "metadata": {},
   "outputs": [],
   "source": [
    "df.loc[:, 'field_cd'] = df.loc[:, 'field_cd'].fillna(19)"
   ]
  },
  {
   "cell_type": "code",
   "execution_count": 1124,
   "metadata": {},
   "outputs": [
    {
     "name": "stdout",
     "output_type": "stream",
     "text": [
      "==========\n",
      "Field Code 1.0\n",
      "['Law' 'law' 'LAW' 'Law and Social Work'\n",
      " 'Law and English Literature (J.D./Ph.D.)' 'Intellectual Property Law'\n",
      " 'Law/Business']\n",
      "==========\n",
      "Field Code 2.0\n",
      "['Economics' 'Mathematics' 'Statistics' 'math' 'Mathematics, PhD' 'Stats'\n",
      " 'math of finance' 'Math']\n",
      "==========\n",
      "Field Code 3.0\n",
      "['Psychology' 'Speech Language Pathology' 'Speech Languahe Pathology'\n",
      " 'Educational Psychology' 'Organizational Psychology' 'psychology'\n",
      " 'Communications' 'Sociology' 'psychology and english' 'theory'\n",
      " 'Health policy' 'Clinical Psychology' 'Sociology and Education'\n",
      " 'sociology' 'Anthropology/Education' 'speech pathology'\n",
      " 'Speech Pathology' 'Anthropology' 'School Psychology' 'anthropology'\n",
      " 'Counseling Psychology' 'African-American Studies/History']\n",
      "==========\n",
      "Field Code 4.0\n",
      "['Medicine' 'Art History/medicine'\n",
      " 'Sociomedical Sciences- School of Public Health' 'Epidemiology'\n",
      " 'GS Postbacc PreMed' 'medicine']\n",
      "==========\n",
      "Field Code 5.0\n",
      "['Operations Research' 'Mechanical Engineering' 'Engineering'\n",
      " 'Electrical Engineering' 'Operations Research (SEAS)'\n",
      " 'Education Administration' 'Computer Science' 'Biomedical Engineering'\n",
      " 'electrical engineering' 'engineering' 'Medical Informatics'\n",
      " 'medical informatics' 'Electrical Engg.' 'Environmental Engineering'\n",
      " 'Instructional Tech & Media' 'MA in Quantitative Methods'\n",
      " 'Urban Planning' 'Financial Engineering' 'biomedical engineering'\n",
      " 'biomedical informatics' 'ELECTRICAL ENGINEERING'\n",
      " 'Biomedical engineering' 'Industrial Engineering'\n",
      " 'Industrial Engineering/Operations Research'\n",
      " 'Masters of Industrial Engineering' 'Biomedical Informatics']\n",
      "==========\n",
      "Field Code 6.0\n",
      "['MFA Creative Writing' 'Classics' 'Journalism' 'English'\n",
      " 'Comparative Literature' 'English and Comp Lit'\n",
      " 'Communications in Education' 'Creative Writing'\n",
      " 'Creative Writing - Nonfiction' 'Writing: Literary Nonfiction'\n",
      " 'Creative Writing (Nonfiction)' 'NonFiction Writing' 'SOA -- writing'\n",
      " 'journalism' 'Nonfiction writing']\n",
      "==========\n",
      "Field Code 7.0\n",
      "['German Literature' 'Religion' 'philosophy' 'History of Religion'\n",
      " 'Modern Chinese Literature' 'Philosophy' 'Religion, GSAS' 'History'\n",
      " 'History (GSAS - PhD)' 'American Studies' 'Philosophy (Ph.D.)'\n",
      " 'Philosophy and Physics' 'Art History' 'art history']\n",
      "==========\n",
      "Field Code 8.0\n",
      "['Finance' 'Business' 'money' 'Applied Maths/Econs' 'Economics' 'Finanace'\n",
      " 'Finance&Economics' 'Mathematical Finance' 'MBA'\n",
      " 'Business & International Affairs' 'Marketing' 'Business (MBA)'\n",
      " 'financial math' 'Business- MBA' 'Economics, English'\n",
      " 'Economics, Sociology' 'Economics and Political Science' 'business'\n",
      " 'Business, marketing' 'Business/ Finance/ Real Estate'\n",
      " 'International Affairs/Finance' 'international finance and business'\n",
      " 'International Business' 'International Finance, Economic Policy'\n",
      " 'Business/Law' 'Business and International Affairs (MBA/MIA Dual Degree)'\n",
      " 'QMSS' 'Public Administration' 'Master in Public Administration'\n",
      " 'Business School' 'MBA / Master of International Affairs (SIPA)'\n",
      " 'Finance/Economics' 'Business Administration' 'MBA Finance'\n",
      " 'BUSINESS CONSULTING' 'business school' 'Business, Media'\n",
      " 'Fundraising Management' 'Business (Finance & Marketing)' 'Consulting'\n",
      " 'MBA - Private Equity / Real Estate' 'General management/finance']\n",
      "==========\n",
      "Field Code 9.0\n",
      "['TC (Health Ed)' 'Elementary/Childhood Education (MA)'\n",
      " 'International Educational Development' 'Art Education'\n",
      " 'elementary education' 'MA Science Education' 'Social Studies Education'\n",
      " 'MA Teaching Social Studies' 'Education Policy'\n",
      " 'Education- Literacy Specialist' 'bilingual education' 'Education'\n",
      " 'math education' 'TESOL' 'Elementary Education'\n",
      " 'Cognitive Studies in Education' 'education'\n",
      " 'Curriculum and Teaching/Giftedness' 'Instructional Media and Technology'\n",
      " 'English Education' 'art education' 'Early Childhood Education'\n",
      " 'Ed.D. in higher education policy at TC' 'EDUCATION' 'music education'\n",
      " 'Music Education' 'Higher Ed. - M.A.' 'Neuroscience and Education'\n",
      " 'Elementary Education - Preservice'\n",
      " 'Education Leadership - Public School Administration'\n",
      " 'Bilingual Education' 'teaching of English']\n",
      "==========\n",
      "Field Code 10.0\n",
      "['chemistry' 'microbiology' 'Chemistry'\n",
      " 'Climate-Earth and Environ. Science' 'marine geophysics'\n",
      " 'Nutrition/Genetics' 'Neuroscience' 'physics (astrophysics)' 'Physics'\n",
      " 'Biochemistry' 'biology' 'Cell Biology' 'Microbiology' 'climate change'\n",
      " 'MA Biotechnology' 'Ecology' 'Computational Biochemsistry' 'Neurobiology'\n",
      " 'biomedicine' 'Biology' 'Conservation biology' 'biotechnology'\n",
      " 'Earth and Environmental Science' 'nutrition' 'Genetics' 'Nutritiron'\n",
      " 'Molecular Biology' 'Genetics & Development' 'genetics'\n",
      " 'medicine and biochemistry' 'Epidemiology' 'Nutrition'\n",
      " 'Applied Physiology & Nutrition' 'Biomedical Engineering' 'physics'\n",
      " 'Biotechnology' 'Neurosciences/Stem cells' 'Biology PhD'\n",
      " 'biochemistry/genetics' 'epidemiology'\n",
      " 'Biochemistry & Molecular Biophysics']\n",
      "==========\n",
      "Field Code 11.0\n",
      "['social work' 'Social Work' 'Masters of Social Work' 'Social work'\n",
      " 'International Affairs' 'Social Work/SIPA']\n",
      "==========\n",
      "Field Code 12.0\n",
      "['Undergrad - GS']\n",
      "==========\n",
      "Field Code 13.0\n",
      "['Masters in Public Administration' 'Masters of Social Work&Education'\n",
      " 'political science' 'International Relations'\n",
      " 'international affairs - economic development' 'Political Science'\n",
      " 'American Studies (Masters)' 'International Affairs'\n",
      " 'international affairs/international finance' 'International Development'\n",
      " 'International Affairs and Public Health' 'International affairs'\n",
      " 'International Affairs/Business' 'Master of International Affairs'\n",
      " 'International Politics' 'SIPA / MIA'\n",
      " 'International Security Policy - SIPA' 'Intrernational Affairs'\n",
      " 'International Affairs - Economic Policy' 'SIPA - Energy' 'Public Policy'\n",
      " 'Human Rights: Middle East' 'Human Rights' 'SIPA-International Affairs'\n",
      " 'Public Administration']\n",
      "==========\n",
      "Field Code 14.0\n",
      "['Film' 'MFA -Film' 'film']\n",
      "==========\n",
      "Field Code 15.0\n",
      "['Arts Administration' 'Museum Anthropology'\n",
      " 'Theatre Management & Producing' 'MFA Writing' 'MFA  Poetry' 'Theater'\n",
      " 'MFA Acting Program' 'Acting' 'Public Health']\n",
      "==========\n",
      "Field Code 16.0\n",
      "['Polish' 'Japanese Literature' 'french']\n",
      "==========\n",
      "Field Code 17.0\n",
      "['Architecture']\n",
      "==========\n",
      "Field Code 18.0\n",
      "['working' 'GSAS' 'Climate Dynamics']\n",
      "==========\n",
      "Field Code 19.0\n",
      "['Operations Research']\n"
     ]
    }
   ],
   "source": [
    "for i, group in df.groupby('field_cd'):\n",
    "    print('=' * 10)\n",
    "    print('Field Code {}'.format(i))\n",
    "    print(group.field.unique())"
   ]
  },
  {
   "cell_type": "code",
   "execution_count": 1125,
   "metadata": {},
   "outputs": [],
   "source": [
    "df = df.drop(['field'], axis=1)"
   ]
  },
  {
   "cell_type": "code",
   "execution_count": 1126,
   "metadata": {},
   "outputs": [
    {
     "data": {
      "text/plain": [
       "(8283, 147)"
      ]
     },
     "execution_count": 1126,
     "metadata": {},
     "output_type": "execute_result"
    }
   ],
   "source": [
    "df.shape"
   ]
  },
  {
   "cell_type": "code",
   "execution_count": null,
   "metadata": {},
   "outputs": [],
   "source": []
  },
  {
   "cell_type": "code",
   "execution_count": 1127,
   "metadata": {},
   "outputs": [
    {
     "data": {
      "text/plain": [
       "342"
      ]
     },
     "execution_count": 1127,
     "metadata": {},
     "output_type": "execute_result"
    },
    {
     "data": {
      "image/png": "[encoded data removed]",
      "text/plain": [
       "<Figure size 432x288 with 1 Axes>"
      ]
     },
     "metadata": {
      "needs_background": "light"
     },
     "output_type": "display_data"
    }
   ],
   "source": [
    "df.loc[:, 'mn_sat'] = df.loc[:, 'mn_sat'].str.replace(',', '').astype(np.float)\n",
    "df.drop_duplicates('iid').mn_sat.hist()\n",
    "df.drop_duplicates('iid').mn_sat.isnull().sum()"
   ]
  },
  {
   "cell_type": "code",
   "execution_count": 1128,
   "metadata": {},
   "outputs": [],
   "source": [
    "df = df.drop(['mn_sat'], axis=1)"
   ]
  },
  {
   "cell_type": "code",
   "execution_count": 1129,
   "metadata": {},
   "outputs": [
    {
     "data": {
      "text/plain": [
       "310"
      ]
     },
     "execution_count": 1129,
     "metadata": {},
     "output_type": "execute_result"
    },
    {
     "data": {
      "image/png": "[encoded data removed]",
      "text/plain": [
       "<Figure size 432x288 with 1 Axes>"
      ]
     },
     "metadata": {
      "needs_background": "light"
     },
     "output_type": "display_data"
    }
   ],
   "source": [
    "df.loc[:, 'tuition'] = df.loc[:, 'tuition'].str.replace(',', '').astype(np.float)\n",
    "df.drop_duplicates('iid').tuition.hist()\n",
    "df.drop_duplicates('iid').tuition.isnull().sum()"
   ]
  },
  {
   "cell_type": "code",
   "execution_count": 1130,
   "metadata": {},
   "outputs": [],
   "source": [
    "df = df.drop(['race'], axis=1)"
   ]
  },
  {
   "cell_type": "code",
   "execution_count": 1131,
   "metadata": {},
   "outputs": [],
   "source": [
    "df.drop_duplicates('iid').imprace.isnull().sum()\n",
    "df.drop_duplicates('iid').imprelig.isnull().sum()\n",
    "\n",
    "df = df.dropna(subset=['imprelig', 'imprace'])"
   ]
  },
  {
   "cell_type": "code",
   "execution_count": 1132,
   "metadata": {},
   "outputs": [
    {
     "data": {
      "text/plain": [
       "(8267, 145)"
      ]
     },
     "execution_count": 1132,
     "metadata": {},
     "output_type": "execute_result"
    }
   ],
   "source": [
    "df.shape"
   ]
  },
  {
   "cell_type": "code",
   "execution_count": 1133,
   "metadata": {},
   "outputs": [
    {
     "data": {
      "image/png": "[encoded data removed]",
      "text/plain": [
       "<Figure size 432x288 with 1 Axes>"
      ]
     },
     "metadata": {
      "needs_background": "light"
     },
     "output_type": "display_data"
    }
   ],
   "source": [
    "# df = df.drop(['from', 'zipcode'], axis=1)\n",
    "df.loc[:, 'income'] = df.loc[:, 'income'].str.replace(',', '').astype(np.float)\n",
    "df.drop_duplicates('iid').loc[:, 'income'].hist()\n",
    "df.drop_duplicates('iid').loc[:, 'income'].isnull().sum()\n",
    "df = df.drop(['income'], axis=1)"
   ]
  },
  {
   "cell_type": "code",
   "execution_count": 1134,
   "metadata": {},
   "outputs": [],
   "source": [
    "df = df.dropna(subset=['date'])"
   ]
  },
  {
   "cell_type": "code",
   "execution_count": 1135,
   "metadata": {},
   "outputs": [],
   "source": [
    "df.loc[:, 'career_c'] = df.loc[:, 'career_c'].fillna(18)\n",
    "df = df.drop(['career'], axis=1)"
   ]
  },
  {
   "cell_type": "code",
   "execution_count": 1136,
   "metadata": {},
   "outputs": [],
   "source": [
    "feat = ['iid', 'wave', 'attr1_1', 'sinc1_1', 'intel1_1', 'fun1_1', 'amb1_1', 'shar1_1']\n",
    "temp = df.drop_duplicates(subset=['iid', 'wave']).loc[:, feat]\n",
    "temp.loc[:, 'totalsum'] = temp.iloc[:, 2:].sum(axis=1)\n",
    "idx = ((temp.wave < 6) | (temp.wave > 9)) & (temp.totalsum < 99)\n",
    "temp.loc[idx, ]\n",
    "idx = ((temp.wave >= 6) & (temp.wave <= 9))\n",
    "temp.loc[idx, ]\n",
    "\n",
    "df.loc[:, 'temp_totalsum'] = df.loc[:, ['attr1_1', 'sinc1_1', 'intel1_1', 'fun1_1', 'amb1_1', 'shar1_1']].sum(axis=1)\n",
    "df.loc[:, ['attr1_1', 'sinc1_1', 'intel1_1', 'fun1_1', 'amb1_1', 'shar1_1']] = \\\n",
    "(df.loc[:, ['attr1_1', 'sinc1_1', 'intel1_1', 'fun1_1', 'amb1_1', 'shar1_1']].T/df.loc[:, 'temp_totalsum'].T).T * 100"
   ]
  },
  {
   "cell_type": "code",
   "execution_count": 1137,
   "metadata": {},
   "outputs": [],
   "source": [
    "feat = ['iid', 'wave', 'attr2_1', 'sinc2_1', 'intel2_1', 'fun2_1', 'amb2_1', 'shar2_1']\n",
    "temp = df.drop_duplicates(subset=['iid', 'wave']).loc[:, feat]\n",
    "temp.loc[:, 'totalsum'] = temp.iloc[:, 2:].sum(axis=1)\n",
    "idx = ((temp.wave < 6) | (temp.wave > 9)) & (temp.totalsum < 90) & (temp.totalsum != 0)\n",
    "temp.loc[idx, ]\n",
    "idx = ((temp.wave >= 6) & (temp.wave <= 9))\n",
    "temp.loc[idx, ]\n",
    "df.loc[:, 'temp_totalsum'] = df.loc[:, ['attr2_1', 'sinc2_1', 'intel2_1', 'fun2_1', 'amb2_1', 'shar2_1']].sum(axis=1)\n",
    "df.loc[:, ['attr2_1', 'sinc2_1', 'intel2_1', 'fun2_1', 'amb2_1', 'shar2_1']] = \\\n",
    "(df.loc[:, ['attr2_1', 'sinc2_1', 'intel2_1', 'fun2_1', 'amb2_1', 'shar2_1']].T/df.loc[:, 'temp_totalsum'].T).T * 100\n",
    "df = df.drop(['temp_totalsum'], axis=1)"
   ]
  },
  {
   "cell_type": "code",
   "execution_count": 1138,
   "metadata": {},
   "outputs": [
    {
     "data": {
      "text/plain": [
       "(8249, 143)"
      ]
     },
     "execution_count": 1138,
     "metadata": {},
     "output_type": "execute_result"
    }
   ],
   "source": [
    "df.shape"
   ]
  },
  {
   "cell_type": "code",
   "execution_count": null,
   "metadata": {},
   "outputs": [],
   "source": []
  },
  {
   "cell_type": "code",
   "execution_count": 1139,
   "metadata": {},
   "outputs": [],
   "source": [
    "for i in [4, 5]:\n",
    "    feat = ['attr{}_1'.format(i), 'sinc{}_1'.format(i), \n",
    "            'intel{}_1'.format(i), 'fun{}_1'.format(i), \n",
    "            'amb{}_1'.format(i), 'shar{}_1'.format(i)]\n",
    "    \n",
    "    if i != 4:\n",
    "        feat.remove('shar{}_1'.format(i))\n",
    "    \n",
    "    df = df.drop(feat, axis=1)"
   ]
  },
  {
   "cell_type": "code",
   "execution_count": 1140,
   "metadata": {},
   "outputs": [],
   "source": [
    "df = df.drop(['wave'], axis=1)"
   ]
  },
  {
   "cell_type": "code",
   "execution_count": 1141,
   "metadata": {},
   "outputs": [],
   "source": [
    "\n",
    "df_male = df.query('gender == 1').drop_duplicates(subset=['iid', 'pid'])\\\n",
    "                                 .drop(['gender'], axis=1)\n",
    "df_male = df_male.fillna(df_male.mean())                                 \n",
    "df_female = df.query('gender == 0').drop_duplicates(subset=['iid'])\n",
    "df_female = df_female.fillna(df_female.mean())\\\n",
    "                                   .drop(['gender', 'match', 'int_corr', 'samerace'], axis=1)\n",
    "                                   #.dropna()\n",
    "        \n",
    "df_female.columns = df_female.columns"
   ]
  },
  {
   "cell_type": "code",
   "execution_count": 1142,
   "metadata": {},
   "outputs": [
    {
     "data": {
      "text/html": [
       "<div>\n",
       "<style scoped>\n",
       "    .dataframe tbody tr th:only-of-type {\n",
       "        vertical-align: middle;\n",
       "    }\n",
       "\n",
       "    .dataframe tbody tr th {\n",
       "        vertical-align: top;\n",
       "    }\n",
       "\n",
       "    .dataframe thead th {\n",
       "        text-align: right;\n",
       "    }\n",
       "</style>\n",
       "<table border=\"1\" class=\"dataframe\">\n",
       "  <thead>\n",
       "    <tr style=\"text-align: right;\">\n",
       "      <th></th>\n",
       "      <th>iid</th>\n",
       "      <th>pid</th>\n",
       "      <th>match</th>\n",
       "      <th>int_corr</th>\n",
       "      <th>samerace</th>\n",
       "      <th>age</th>\n",
       "      <th>field_cd</th>\n",
       "      <th>tuition</th>\n",
       "      <th>imprace</th>\n",
       "      <th>imprelig</th>\n",
       "      <th>...</th>\n",
       "      <th>attr3_3</th>\n",
       "      <th>sinc3_3</th>\n",
       "      <th>intel3_3</th>\n",
       "      <th>fun3_3</th>\n",
       "      <th>amb3_3</th>\n",
       "      <th>attr5_3</th>\n",
       "      <th>sinc5_3</th>\n",
       "      <th>intel5_3</th>\n",
       "      <th>fun5_3</th>\n",
       "      <th>amb5_3</th>\n",
       "    </tr>\n",
       "  </thead>\n",
       "  <tbody>\n",
       "    <tr>\n",
       "      <th>100</th>\n",
       "      <td>11</td>\n",
       "      <td>1.0</td>\n",
       "      <td>0</td>\n",
       "      <td>0.14</td>\n",
       "      <td>0</td>\n",
       "      <td>27.0</td>\n",
       "      <td>8.0</td>\n",
       "      <td>21534.444063</td>\n",
       "      <td>7.0</td>\n",
       "      <td>3.0</td>\n",
       "      <td>...</td>\n",
       "      <td>7.0</td>\n",
       "      <td>8.0</td>\n",
       "      <td>7.0</td>\n",
       "      <td>7.0</td>\n",
       "      <td>5.0</td>\n",
       "      <td>6.636364</td>\n",
       "      <td>7.13082</td>\n",
       "      <td>8.046563</td>\n",
       "      <td>7.029933</td>\n",
       "      <td>7.154102</td>\n",
       "    </tr>\n",
       "    <tr>\n",
       "      <th>101</th>\n",
       "      <td>11</td>\n",
       "      <td>2.0</td>\n",
       "      <td>0</td>\n",
       "      <td>0.29</td>\n",
       "      <td>1</td>\n",
       "      <td>27.0</td>\n",
       "      <td>8.0</td>\n",
       "      <td>21534.444063</td>\n",
       "      <td>7.0</td>\n",
       "      <td>3.0</td>\n",
       "      <td>...</td>\n",
       "      <td>7.0</td>\n",
       "      <td>8.0</td>\n",
       "      <td>7.0</td>\n",
       "      <td>7.0</td>\n",
       "      <td>5.0</td>\n",
       "      <td>6.636364</td>\n",
       "      <td>7.13082</td>\n",
       "      <td>8.046563</td>\n",
       "      <td>7.029933</td>\n",
       "      <td>7.154102</td>\n",
       "    </tr>\n",
       "    <tr>\n",
       "      <th>102</th>\n",
       "      <td>11</td>\n",
       "      <td>3.0</td>\n",
       "      <td>0</td>\n",
       "      <td>-0.24</td>\n",
       "      <td>1</td>\n",
       "      <td>27.0</td>\n",
       "      <td>8.0</td>\n",
       "      <td>21534.444063</td>\n",
       "      <td>7.0</td>\n",
       "      <td>3.0</td>\n",
       "      <td>...</td>\n",
       "      <td>7.0</td>\n",
       "      <td>8.0</td>\n",
       "      <td>7.0</td>\n",
       "      <td>7.0</td>\n",
       "      <td>5.0</td>\n",
       "      <td>6.636364</td>\n",
       "      <td>7.13082</td>\n",
       "      <td>8.046563</td>\n",
       "      <td>7.029933</td>\n",
       "      <td>7.154102</td>\n",
       "    </tr>\n",
       "    <tr>\n",
       "      <th>103</th>\n",
       "      <td>11</td>\n",
       "      <td>4.0</td>\n",
       "      <td>0</td>\n",
       "      <td>-0.18</td>\n",
       "      <td>1</td>\n",
       "      <td>27.0</td>\n",
       "      <td>8.0</td>\n",
       "      <td>21534.444063</td>\n",
       "      <td>7.0</td>\n",
       "      <td>3.0</td>\n",
       "      <td>...</td>\n",
       "      <td>7.0</td>\n",
       "      <td>8.0</td>\n",
       "      <td>7.0</td>\n",
       "      <td>7.0</td>\n",
       "      <td>5.0</td>\n",
       "      <td>6.636364</td>\n",
       "      <td>7.13082</td>\n",
       "      <td>8.046563</td>\n",
       "      <td>7.029933</td>\n",
       "      <td>7.154102</td>\n",
       "    </tr>\n",
       "    <tr>\n",
       "      <th>104</th>\n",
       "      <td>11</td>\n",
       "      <td>5.0</td>\n",
       "      <td>0</td>\n",
       "      <td>-0.43</td>\n",
       "      <td>1</td>\n",
       "      <td>27.0</td>\n",
       "      <td>8.0</td>\n",
       "      <td>21534.444063</td>\n",
       "      <td>7.0</td>\n",
       "      <td>3.0</td>\n",
       "      <td>...</td>\n",
       "      <td>7.0</td>\n",
       "      <td>8.0</td>\n",
       "      <td>7.0</td>\n",
       "      <td>7.0</td>\n",
       "      <td>5.0</td>\n",
       "      <td>6.636364</td>\n",
       "      <td>7.13082</td>\n",
       "      <td>8.046563</td>\n",
       "      <td>7.029933</td>\n",
       "      <td>7.154102</td>\n",
       "    </tr>\n",
       "    <tr>\n",
       "      <th>...</th>\n",
       "      <td>...</td>\n",
       "      <td>...</td>\n",
       "      <td>...</td>\n",
       "      <td>...</td>\n",
       "      <td>...</td>\n",
       "      <td>...</td>\n",
       "      <td>...</td>\n",
       "      <td>...</td>\n",
       "      <td>...</td>\n",
       "      <td>...</td>\n",
       "      <td>...</td>\n",
       "      <td>...</td>\n",
       "      <td>...</td>\n",
       "      <td>...</td>\n",
       "      <td>...</td>\n",
       "      <td>...</td>\n",
       "      <td>...</td>\n",
       "      <td>...</td>\n",
       "      <td>...</td>\n",
       "      <td>...</td>\n",
       "      <td>...</td>\n",
       "    </tr>\n",
       "    <tr>\n",
       "      <th>8373</th>\n",
       "      <td>552</td>\n",
       "      <td>526.0</td>\n",
       "      <td>0</td>\n",
       "      <td>0.64</td>\n",
       "      <td>0</td>\n",
       "      <td>25.0</td>\n",
       "      <td>18.0</td>\n",
       "      <td>21534.444063</td>\n",
       "      <td>1.0</td>\n",
       "      <td>1.0</td>\n",
       "      <td>...</td>\n",
       "      <td>8.0</td>\n",
       "      <td>5.0</td>\n",
       "      <td>7.0</td>\n",
       "      <td>6.0</td>\n",
       "      <td>7.0</td>\n",
       "      <td>9.000000</td>\n",
       "      <td>5.00000</td>\n",
       "      <td>9.000000</td>\n",
       "      <td>5.000000</td>\n",
       "      <td>6.000000</td>\n",
       "    </tr>\n",
       "    <tr>\n",
       "      <th>8374</th>\n",
       "      <td>552</td>\n",
       "      <td>527.0</td>\n",
       "      <td>0</td>\n",
       "      <td>0.71</td>\n",
       "      <td>0</td>\n",
       "      <td>25.0</td>\n",
       "      <td>18.0</td>\n",
       "      <td>21534.444063</td>\n",
       "      <td>1.0</td>\n",
       "      <td>1.0</td>\n",
       "      <td>...</td>\n",
       "      <td>8.0</td>\n",
       "      <td>5.0</td>\n",
       "      <td>7.0</td>\n",
       "      <td>6.0</td>\n",
       "      <td>7.0</td>\n",
       "      <td>9.000000</td>\n",
       "      <td>5.00000</td>\n",
       "      <td>9.000000</td>\n",
       "      <td>5.000000</td>\n",
       "      <td>6.000000</td>\n",
       "    </tr>\n",
       "    <tr>\n",
       "      <th>8375</th>\n",
       "      <td>552</td>\n",
       "      <td>528.0</td>\n",
       "      <td>0</td>\n",
       "      <td>-0.46</td>\n",
       "      <td>0</td>\n",
       "      <td>25.0</td>\n",
       "      <td>18.0</td>\n",
       "      <td>21534.444063</td>\n",
       "      <td>1.0</td>\n",
       "      <td>1.0</td>\n",
       "      <td>...</td>\n",
       "      <td>8.0</td>\n",
       "      <td>5.0</td>\n",
       "      <td>7.0</td>\n",
       "      <td>6.0</td>\n",
       "      <td>7.0</td>\n",
       "      <td>9.000000</td>\n",
       "      <td>5.00000</td>\n",
       "      <td>9.000000</td>\n",
       "      <td>5.000000</td>\n",
       "      <td>6.000000</td>\n",
       "    </tr>\n",
       "    <tr>\n",
       "      <th>8376</th>\n",
       "      <td>552</td>\n",
       "      <td>529.0</td>\n",
       "      <td>0</td>\n",
       "      <td>0.62</td>\n",
       "      <td>0</td>\n",
       "      <td>25.0</td>\n",
       "      <td>18.0</td>\n",
       "      <td>21534.444063</td>\n",
       "      <td>1.0</td>\n",
       "      <td>1.0</td>\n",
       "      <td>...</td>\n",
       "      <td>8.0</td>\n",
       "      <td>5.0</td>\n",
       "      <td>7.0</td>\n",
       "      <td>6.0</td>\n",
       "      <td>7.0</td>\n",
       "      <td>9.000000</td>\n",
       "      <td>5.00000</td>\n",
       "      <td>9.000000</td>\n",
       "      <td>5.000000</td>\n",
       "      <td>6.000000</td>\n",
       "    </tr>\n",
       "    <tr>\n",
       "      <th>8377</th>\n",
       "      <td>552</td>\n",
       "      <td>530.0</td>\n",
       "      <td>0</td>\n",
       "      <td>0.01</td>\n",
       "      <td>0</td>\n",
       "      <td>25.0</td>\n",
       "      <td>18.0</td>\n",
       "      <td>21534.444063</td>\n",
       "      <td>1.0</td>\n",
       "      <td>1.0</td>\n",
       "      <td>...</td>\n",
       "      <td>8.0</td>\n",
       "      <td>5.0</td>\n",
       "      <td>7.0</td>\n",
       "      <td>6.0</td>\n",
       "      <td>7.0</td>\n",
       "      <td>9.000000</td>\n",
       "      <td>5.00000</td>\n",
       "      <td>9.000000</td>\n",
       "      <td>5.000000</td>\n",
       "      <td>6.000000</td>\n",
       "    </tr>\n",
       "  </tbody>\n",
       "</table>\n",
       "<p>4146 rows × 130 columns</p>\n",
       "</div>"
      ],
      "text/plain": [
       "      iid    pid  match  int_corr  samerace   age  field_cd       tuition  \\\n",
       "100    11    1.0      0      0.14         0  27.0       8.0  21534.444063   \n",
       "101    11    2.0      0      0.29         1  27.0       8.0  21534.444063   \n",
       "102    11    3.0      0     -0.24         1  27.0       8.0  21534.444063   \n",
       "103    11    4.0      0     -0.18         1  27.0       8.0  21534.444063   \n",
       "104    11    5.0      0     -0.43         1  27.0       8.0  21534.444063   \n",
       "...   ...    ...    ...       ...       ...   ...       ...           ...   \n",
       "8373  552  526.0      0      0.64         0  25.0      18.0  21534.444063   \n",
       "8374  552  527.0      0      0.71         0  25.0      18.0  21534.444063   \n",
       "8375  552  528.0      0     -0.46         0  25.0      18.0  21534.444063   \n",
       "8376  552  529.0      0      0.62         0  25.0      18.0  21534.444063   \n",
       "8377  552  530.0      0      0.01         0  25.0      18.0  21534.444063   \n",
       "\n",
       "      imprace  imprelig  ...  attr3_3  sinc3_3  intel3_3  fun3_3  amb3_3  \\\n",
       "100       7.0       3.0  ...      7.0      8.0       7.0     7.0     5.0   \n",
       "101       7.0       3.0  ...      7.0      8.0       7.0     7.0     5.0   \n",
       "102       7.0       3.0  ...      7.0      8.0       7.0     7.0     5.0   \n",
       "103       7.0       3.0  ...      7.0      8.0       7.0     7.0     5.0   \n",
       "104       7.0       3.0  ...      7.0      8.0       7.0     7.0     5.0   \n",
       "...       ...       ...  ...      ...      ...       ...     ...     ...   \n",
       "8373      1.0       1.0  ...      8.0      5.0       7.0     6.0     7.0   \n",
       "8374      1.0       1.0  ...      8.0      5.0       7.0     6.0     7.0   \n",
       "8375      1.0       1.0  ...      8.0      5.0       7.0     6.0     7.0   \n",
       "8376      1.0       1.0  ...      8.0      5.0       7.0     6.0     7.0   \n",
       "8377      1.0       1.0  ...      8.0      5.0       7.0     6.0     7.0   \n",
       "\n",
       "       attr5_3  sinc5_3  intel5_3    fun5_3    amb5_3  \n",
       "100   6.636364  7.13082  8.046563  7.029933  7.154102  \n",
       "101   6.636364  7.13082  8.046563  7.029933  7.154102  \n",
       "102   6.636364  7.13082  8.046563  7.029933  7.154102  \n",
       "103   6.636364  7.13082  8.046563  7.029933  7.154102  \n",
       "104   6.636364  7.13082  8.046563  7.029933  7.154102  \n",
       "...        ...      ...       ...       ...       ...  \n",
       "8373  9.000000  5.00000  9.000000  5.000000  6.000000  \n",
       "8374  9.000000  5.00000  9.000000  5.000000  6.000000  \n",
       "8375  9.000000  5.00000  9.000000  5.000000  6.000000  \n",
       "8376  9.000000  5.00000  9.000000  5.000000  6.000000  \n",
       "8377  9.000000  5.00000  9.000000  5.000000  6.000000  \n",
       "\n",
       "[4146 rows x 130 columns]"
      ]
     },
     "execution_count": 1142,
     "metadata": {},
     "output_type": "execute_result"
    }
   ],
   "source": [
    "df_male"
   ]
  },
  {
   "cell_type": "code",
   "execution_count": 1143,
   "metadata": {},
   "outputs": [],
   "source": [
    "df_union = df_male.set_index('pid').join(df_female.set_index('iid'), lsuffix='f')"
   ]
  },
  {
   "cell_type": "code",
   "execution_count": 1144,
   "metadata": {},
   "outputs": [
    {
     "data": {
      "text/html": [
       "<div>\n",
       "<style scoped>\n",
       "    .dataframe tbody tr th:only-of-type {\n",
       "        vertical-align: middle;\n",
       "    }\n",
       "\n",
       "    .dataframe tbody tr th {\n",
       "        vertical-align: top;\n",
       "    }\n",
       "\n",
       "    .dataframe thead th {\n",
       "        text-align: right;\n",
       "    }\n",
       "</style>\n",
       "<table border=\"1\" class=\"dataframe\">\n",
       "  <thead>\n",
       "    <tr style=\"text-align: right;\">\n",
       "      <th></th>\n",
       "      <th>iid</th>\n",
       "      <th>match</th>\n",
       "      <th>int_corr</th>\n",
       "      <th>samerace</th>\n",
       "      <th>agef</th>\n",
       "      <th>field_cdf</th>\n",
       "      <th>tuitionf</th>\n",
       "      <th>impracef</th>\n",
       "      <th>impreligf</th>\n",
       "      <th>goalf</th>\n",
       "      <th>...</th>\n",
       "      <th>attr3_3</th>\n",
       "      <th>sinc3_3</th>\n",
       "      <th>intel3_3</th>\n",
       "      <th>fun3_3</th>\n",
       "      <th>amb3_3</th>\n",
       "      <th>attr5_3</th>\n",
       "      <th>sinc5_3</th>\n",
       "      <th>intel5_3</th>\n",
       "      <th>fun5_3</th>\n",
       "      <th>amb5_3</th>\n",
       "    </tr>\n",
       "  </thead>\n",
       "  <tbody>\n",
       "    <tr>\n",
       "      <th>1.0</th>\n",
       "      <td>11</td>\n",
       "      <td>0</td>\n",
       "      <td>0.14</td>\n",
       "      <td>0</td>\n",
       "      <td>27.0</td>\n",
       "      <td>8.0</td>\n",
       "      <td>21534.444063</td>\n",
       "      <td>7.0</td>\n",
       "      <td>3.0</td>\n",
       "      <td>1.0</td>\n",
       "      <td>...</td>\n",
       "      <td>5.0</td>\n",
       "      <td>7.0</td>\n",
       "      <td>7.0</td>\n",
       "      <td>7.0</td>\n",
       "      <td>7.0</td>\n",
       "      <td>6.986301</td>\n",
       "      <td>8.013699</td>\n",
       "      <td>7.849315</td>\n",
       "      <td>7.246575</td>\n",
       "      <td>6.876712</td>\n",
       "    </tr>\n",
       "    <tr>\n",
       "      <th>1.0</th>\n",
       "      <td>12</td>\n",
       "      <td>0</td>\n",
       "      <td>0.54</td>\n",
       "      <td>0</td>\n",
       "      <td>22.0</td>\n",
       "      <td>1.0</td>\n",
       "      <td>21534.444063</td>\n",
       "      <td>1.0</td>\n",
       "      <td>1.0</td>\n",
       "      <td>1.0</td>\n",
       "      <td>...</td>\n",
       "      <td>5.0</td>\n",
       "      <td>7.0</td>\n",
       "      <td>7.0</td>\n",
       "      <td>7.0</td>\n",
       "      <td>7.0</td>\n",
       "      <td>6.986301</td>\n",
       "      <td>8.013699</td>\n",
       "      <td>7.849315</td>\n",
       "      <td>7.246575</td>\n",
       "      <td>6.876712</td>\n",
       "    </tr>\n",
       "    <tr>\n",
       "      <th>1.0</th>\n",
       "      <td>13</td>\n",
       "      <td>1</td>\n",
       "      <td>0.16</td>\n",
       "      <td>1</td>\n",
       "      <td>22.0</td>\n",
       "      <td>1.0</td>\n",
       "      <td>21534.444063</td>\n",
       "      <td>3.0</td>\n",
       "      <td>5.0</td>\n",
       "      <td>2.0</td>\n",
       "      <td>...</td>\n",
       "      <td>5.0</td>\n",
       "      <td>7.0</td>\n",
       "      <td>7.0</td>\n",
       "      <td>7.0</td>\n",
       "      <td>7.0</td>\n",
       "      <td>6.986301</td>\n",
       "      <td>8.013699</td>\n",
       "      <td>7.849315</td>\n",
       "      <td>7.246575</td>\n",
       "      <td>6.876712</td>\n",
       "    </tr>\n",
       "    <tr>\n",
       "      <th>1.0</th>\n",
       "      <td>14</td>\n",
       "      <td>1</td>\n",
       "      <td>0.61</td>\n",
       "      <td>0</td>\n",
       "      <td>23.0</td>\n",
       "      <td>1.0</td>\n",
       "      <td>21534.444063</td>\n",
       "      <td>1.0</td>\n",
       "      <td>1.0</td>\n",
       "      <td>2.0</td>\n",
       "      <td>...</td>\n",
       "      <td>5.0</td>\n",
       "      <td>7.0</td>\n",
       "      <td>7.0</td>\n",
       "      <td>7.0</td>\n",
       "      <td>7.0</td>\n",
       "      <td>6.986301</td>\n",
       "      <td>8.013699</td>\n",
       "      <td>7.849315</td>\n",
       "      <td>7.246575</td>\n",
       "      <td>6.876712</td>\n",
       "    </tr>\n",
       "    <tr>\n",
       "      <th>1.0</th>\n",
       "      <td>15</td>\n",
       "      <td>1</td>\n",
       "      <td>0.21</td>\n",
       "      <td>0</td>\n",
       "      <td>24.0</td>\n",
       "      <td>1.0</td>\n",
       "      <td>21534.444063</td>\n",
       "      <td>3.0</td>\n",
       "      <td>1.0</td>\n",
       "      <td>1.0</td>\n",
       "      <td>...</td>\n",
       "      <td>5.0</td>\n",
       "      <td>7.0</td>\n",
       "      <td>7.0</td>\n",
       "      <td>7.0</td>\n",
       "      <td>7.0</td>\n",
       "      <td>6.986301</td>\n",
       "      <td>8.013699</td>\n",
       "      <td>7.849315</td>\n",
       "      <td>7.246575</td>\n",
       "      <td>6.876712</td>\n",
       "    </tr>\n",
       "    <tr>\n",
       "      <th>...</th>\n",
       "      <td>...</td>\n",
       "      <td>...</td>\n",
       "      <td>...</td>\n",
       "      <td>...</td>\n",
       "      <td>...</td>\n",
       "      <td>...</td>\n",
       "      <td>...</td>\n",
       "      <td>...</td>\n",
       "      <td>...</td>\n",
       "      <td>...</td>\n",
       "      <td>...</td>\n",
       "      <td>...</td>\n",
       "      <td>...</td>\n",
       "      <td>...</td>\n",
       "      <td>...</td>\n",
       "      <td>...</td>\n",
       "      <td>...</td>\n",
       "      <td>...</td>\n",
       "      <td>...</td>\n",
       "      <td>...</td>\n",
       "      <td>...</td>\n",
       "    </tr>\n",
       "    <tr>\n",
       "      <th>530.0</th>\n",
       "      <td>548</td>\n",
       "      <td>0</td>\n",
       "      <td>0.23</td>\n",
       "      <td>0</td>\n",
       "      <td>30.0</td>\n",
       "      <td>8.0</td>\n",
       "      <td>21534.444063</td>\n",
       "      <td>8.0</td>\n",
       "      <td>8.0</td>\n",
       "      <td>1.0</td>\n",
       "      <td>...</td>\n",
       "      <td>6.0</td>\n",
       "      <td>9.0</td>\n",
       "      <td>5.0</td>\n",
       "      <td>7.0</td>\n",
       "      <td>5.0</td>\n",
       "      <td>3.000000</td>\n",
       "      <td>8.000000</td>\n",
       "      <td>8.000000</td>\n",
       "      <td>5.000000</td>\n",
       "      <td>5.000000</td>\n",
       "    </tr>\n",
       "    <tr>\n",
       "      <th>530.0</th>\n",
       "      <td>549</td>\n",
       "      <td>0</td>\n",
       "      <td>0.29</td>\n",
       "      <td>0</td>\n",
       "      <td>28.0</td>\n",
       "      <td>8.0</td>\n",
       "      <td>21534.444063</td>\n",
       "      <td>2.0</td>\n",
       "      <td>3.0</td>\n",
       "      <td>1.0</td>\n",
       "      <td>...</td>\n",
       "      <td>6.0</td>\n",
       "      <td>9.0</td>\n",
       "      <td>5.0</td>\n",
       "      <td>7.0</td>\n",
       "      <td>5.0</td>\n",
       "      <td>3.000000</td>\n",
       "      <td>8.000000</td>\n",
       "      <td>8.000000</td>\n",
       "      <td>5.000000</td>\n",
       "      <td>5.000000</td>\n",
       "    </tr>\n",
       "    <tr>\n",
       "      <th>530.0</th>\n",
       "      <td>550</td>\n",
       "      <td>0</td>\n",
       "      <td>-0.20</td>\n",
       "      <td>0</td>\n",
       "      <td>30.0</td>\n",
       "      <td>8.0</td>\n",
       "      <td>21534.444063</td>\n",
       "      <td>5.0</td>\n",
       "      <td>6.0</td>\n",
       "      <td>2.0</td>\n",
       "      <td>...</td>\n",
       "      <td>6.0</td>\n",
       "      <td>9.0</td>\n",
       "      <td>5.0</td>\n",
       "      <td>7.0</td>\n",
       "      <td>5.0</td>\n",
       "      <td>3.000000</td>\n",
       "      <td>8.000000</td>\n",
       "      <td>8.000000</td>\n",
       "      <td>5.000000</td>\n",
       "      <td>5.000000</td>\n",
       "    </tr>\n",
       "    <tr>\n",
       "      <th>530.0</th>\n",
       "      <td>551</td>\n",
       "      <td>0</td>\n",
       "      <td>-0.32</td>\n",
       "      <td>0</td>\n",
       "      <td>27.0</td>\n",
       "      <td>8.0</td>\n",
       "      <td>26019.000000</td>\n",
       "      <td>2.0</td>\n",
       "      <td>1.0</td>\n",
       "      <td>1.0</td>\n",
       "      <td>...</td>\n",
       "      <td>6.0</td>\n",
       "      <td>9.0</td>\n",
       "      <td>5.0</td>\n",
       "      <td>7.0</td>\n",
       "      <td>5.0</td>\n",
       "      <td>3.000000</td>\n",
       "      <td>8.000000</td>\n",
       "      <td>8.000000</td>\n",
       "      <td>5.000000</td>\n",
       "      <td>5.000000</td>\n",
       "    </tr>\n",
       "    <tr>\n",
       "      <th>530.0</th>\n",
       "      <td>552</td>\n",
       "      <td>0</td>\n",
       "      <td>0.01</td>\n",
       "      <td>0</td>\n",
       "      <td>25.0</td>\n",
       "      <td>18.0</td>\n",
       "      <td>21534.444063</td>\n",
       "      <td>1.0</td>\n",
       "      <td>1.0</td>\n",
       "      <td>1.0</td>\n",
       "      <td>...</td>\n",
       "      <td>6.0</td>\n",
       "      <td>9.0</td>\n",
       "      <td>5.0</td>\n",
       "      <td>7.0</td>\n",
       "      <td>5.0</td>\n",
       "      <td>3.000000</td>\n",
       "      <td>8.000000</td>\n",
       "      <td>8.000000</td>\n",
       "      <td>5.000000</td>\n",
       "      <td>5.000000</td>\n",
       "    </tr>\n",
       "  </tbody>\n",
       "</table>\n",
       "<p>4146 rows × 255 columns</p>\n",
       "</div>"
      ],
      "text/plain": [
       "       iid  match  int_corr  samerace  agef  field_cdf      tuitionf  \\\n",
       "1.0     11      0      0.14         0  27.0        8.0  21534.444063   \n",
       "1.0     12      0      0.54         0  22.0        1.0  21534.444063   \n",
       "1.0     13      1      0.16         1  22.0        1.0  21534.444063   \n",
       "1.0     14      1      0.61         0  23.0        1.0  21534.444063   \n",
       "1.0     15      1      0.21         0  24.0        1.0  21534.444063   \n",
       "...    ...    ...       ...       ...   ...        ...           ...   \n",
       "530.0  548      0      0.23         0  30.0        8.0  21534.444063   \n",
       "530.0  549      0      0.29         0  28.0        8.0  21534.444063   \n",
       "530.0  550      0     -0.20         0  30.0        8.0  21534.444063   \n",
       "530.0  551      0     -0.32         0  27.0        8.0  26019.000000   \n",
       "530.0  552      0      0.01         0  25.0       18.0  21534.444063   \n",
       "\n",
       "       impracef  impreligf  goalf  ...  attr3_3  sinc3_3  intel3_3  fun3_3  \\\n",
       "1.0         7.0        3.0    1.0  ...      5.0      7.0       7.0     7.0   \n",
       "1.0         1.0        1.0    1.0  ...      5.0      7.0       7.0     7.0   \n",
       "1.0         3.0        5.0    2.0  ...      5.0      7.0       7.0     7.0   \n",
       "1.0         1.0        1.0    2.0  ...      5.0      7.0       7.0     7.0   \n",
       "1.0         3.0        1.0    1.0  ...      5.0      7.0       7.0     7.0   \n",
       "...         ...        ...    ...  ...      ...      ...       ...     ...   \n",
       "530.0       8.0        8.0    1.0  ...      6.0      9.0       5.0     7.0   \n",
       "530.0       2.0        3.0    1.0  ...      6.0      9.0       5.0     7.0   \n",
       "530.0       5.0        6.0    2.0  ...      6.0      9.0       5.0     7.0   \n",
       "530.0       2.0        1.0    1.0  ...      6.0      9.0       5.0     7.0   \n",
       "530.0       1.0        1.0    1.0  ...      6.0      9.0       5.0     7.0   \n",
       "\n",
       "       amb3_3   attr5_3   sinc5_3  intel5_3    fun5_3    amb5_3  \n",
       "1.0       7.0  6.986301  8.013699  7.849315  7.246575  6.876712  \n",
       "1.0       7.0  6.986301  8.013699  7.849315  7.246575  6.876712  \n",
       "1.0       7.0  6.986301  8.013699  7.849315  7.246575  6.876712  \n",
       "1.0       7.0  6.986301  8.013699  7.849315  7.246575  6.876712  \n",
       "1.0       7.0  6.986301  8.013699  7.849315  7.246575  6.876712  \n",
       "...       ...       ...       ...       ...       ...       ...  \n",
       "530.0     5.0  3.000000  8.000000  8.000000  5.000000  5.000000  \n",
       "530.0     5.0  3.000000  8.000000  8.000000  5.000000  5.000000  \n",
       "530.0     5.0  3.000000  8.000000  8.000000  5.000000  5.000000  \n",
       "530.0     5.0  3.000000  8.000000  8.000000  5.000000  5.000000  \n",
       "530.0     5.0  3.000000  8.000000  8.000000  5.000000  5.000000  \n",
       "\n",
       "[4146 rows x 255 columns]"
      ]
     },
     "execution_count": 1144,
     "metadata": {},
     "output_type": "execute_result"
    }
   ],
   "source": [
    "df_union = df_union.fillna(df_union.mean())\n",
    "df_union"
   ]
  },
  {
   "cell_type": "code",
   "execution_count": 1145,
   "metadata": {},
   "outputs": [
    {
     "data": {
      "text/plain": [
       "(277,)"
      ]
     },
     "execution_count": 1145,
     "metadata": {},
     "output_type": "execute_result"
    }
   ],
   "source": [
    "df[df['gender'] == 0].pid.unique().shape"
   ]
  },
  {
   "cell_type": "code",
   "execution_count": 1146,
   "metadata": {},
   "outputs": [
    {
     "data": {
      "text/html": [
       "<div>\n",
       "<style scoped>\n",
       "    .dataframe tbody tr th:only-of-type {\n",
       "        vertical-align: middle;\n",
       "    }\n",
       "\n",
       "    .dataframe tbody tr th {\n",
       "        vertical-align: top;\n",
       "    }\n",
       "\n",
       "    .dataframe thead th {\n",
       "        text-align: right;\n",
       "    }\n",
       "</style>\n",
       "<table border=\"1\" class=\"dataframe\">\n",
       "  <thead>\n",
       "    <tr style=\"text-align: right;\">\n",
       "      <th></th>\n",
       "      <th>iid</th>\n",
       "      <th>pid</th>\n",
       "      <th>age</th>\n",
       "      <th>field_cd</th>\n",
       "      <th>tuition</th>\n",
       "      <th>imprace</th>\n",
       "      <th>imprelig</th>\n",
       "      <th>goal</th>\n",
       "      <th>date</th>\n",
       "      <th>go_out</th>\n",
       "      <th>...</th>\n",
       "      <th>attr3_3</th>\n",
       "      <th>sinc3_3</th>\n",
       "      <th>intel3_3</th>\n",
       "      <th>fun3_3</th>\n",
       "      <th>amb3_3</th>\n",
       "      <th>attr5_3</th>\n",
       "      <th>sinc5_3</th>\n",
       "      <th>intel5_3</th>\n",
       "      <th>fun5_3</th>\n",
       "      <th>amb5_3</th>\n",
       "    </tr>\n",
       "  </thead>\n",
       "  <tbody>\n",
       "    <tr>\n",
       "      <th>0</th>\n",
       "      <td>1</td>\n",
       "      <td>11.0</td>\n",
       "      <td>21.0</td>\n",
       "      <td>1.0</td>\n",
       "      <td>20546.485075</td>\n",
       "      <td>2.0</td>\n",
       "      <td>4.0</td>\n",
       "      <td>2.0</td>\n",
       "      <td>7.0</td>\n",
       "      <td>1.0</td>\n",
       "      <td>...</td>\n",
       "      <td>5.000000</td>\n",
       "      <td>7.000000</td>\n",
       "      <td>7.000000</td>\n",
       "      <td>7.000000</td>\n",
       "      <td>7.000000</td>\n",
       "      <td>6.986301</td>\n",
       "      <td>8.013699</td>\n",
       "      <td>7.849315</td>\n",
       "      <td>7.246575</td>\n",
       "      <td>6.876712</td>\n",
       "    </tr>\n",
       "    <tr>\n",
       "      <th>10</th>\n",
       "      <td>2</td>\n",
       "      <td>11.0</td>\n",
       "      <td>24.0</td>\n",
       "      <td>1.0</td>\n",
       "      <td>20546.485075</td>\n",
       "      <td>2.0</td>\n",
       "      <td>5.0</td>\n",
       "      <td>1.0</td>\n",
       "      <td>5.0</td>\n",
       "      <td>1.0</td>\n",
       "      <td>...</td>\n",
       "      <td>7.000000</td>\n",
       "      <td>6.000000</td>\n",
       "      <td>9.000000</td>\n",
       "      <td>9.000000</td>\n",
       "      <td>4.000000</td>\n",
       "      <td>6.986301</td>\n",
       "      <td>8.013699</td>\n",
       "      <td>7.849315</td>\n",
       "      <td>7.246575</td>\n",
       "      <td>6.876712</td>\n",
       "    </tr>\n",
       "    <tr>\n",
       "      <th>20</th>\n",
       "      <td>3</td>\n",
       "      <td>11.0</td>\n",
       "      <td>25.0</td>\n",
       "      <td>2.0</td>\n",
       "      <td>20546.485075</td>\n",
       "      <td>8.0</td>\n",
       "      <td>4.0</td>\n",
       "      <td>6.0</td>\n",
       "      <td>3.0</td>\n",
       "      <td>1.0</td>\n",
       "      <td>...</td>\n",
       "      <td>7.365517</td>\n",
       "      <td>8.296552</td>\n",
       "      <td>8.317241</td>\n",
       "      <td>7.868966</td>\n",
       "      <td>7.427586</td>\n",
       "      <td>6.986301</td>\n",
       "      <td>8.013699</td>\n",
       "      <td>7.849315</td>\n",
       "      <td>7.246575</td>\n",
       "      <td>6.876712</td>\n",
       "    </tr>\n",
       "    <tr>\n",
       "      <th>30</th>\n",
       "      <td>4</td>\n",
       "      <td>11.0</td>\n",
       "      <td>23.0</td>\n",
       "      <td>1.0</td>\n",
       "      <td>20546.485075</td>\n",
       "      <td>1.0</td>\n",
       "      <td>1.0</td>\n",
       "      <td>1.0</td>\n",
       "      <td>5.0</td>\n",
       "      <td>1.0</td>\n",
       "      <td>...</td>\n",
       "      <td>6.000000</td>\n",
       "      <td>5.000000</td>\n",
       "      <td>6.000000</td>\n",
       "      <td>8.000000</td>\n",
       "      <td>5.000000</td>\n",
       "      <td>6.986301</td>\n",
       "      <td>8.013699</td>\n",
       "      <td>7.849315</td>\n",
       "      <td>7.246575</td>\n",
       "      <td>6.876712</td>\n",
       "    </tr>\n",
       "    <tr>\n",
       "      <th>40</th>\n",
       "      <td>5</td>\n",
       "      <td>11.0</td>\n",
       "      <td>21.0</td>\n",
       "      <td>1.0</td>\n",
       "      <td>20546.485075</td>\n",
       "      <td>8.0</td>\n",
       "      <td>1.0</td>\n",
       "      <td>2.0</td>\n",
       "      <td>4.0</td>\n",
       "      <td>1.0</td>\n",
       "      <td>...</td>\n",
       "      <td>4.000000</td>\n",
       "      <td>5.000000</td>\n",
       "      <td>10.000000</td>\n",
       "      <td>6.000000</td>\n",
       "      <td>10.000000</td>\n",
       "      <td>6.986301</td>\n",
       "      <td>8.013699</td>\n",
       "      <td>7.849315</td>\n",
       "      <td>7.246575</td>\n",
       "      <td>6.876712</td>\n",
       "    </tr>\n",
       "    <tr>\n",
       "      <th>...</th>\n",
       "      <td>...</td>\n",
       "      <td>...</td>\n",
       "      <td>...</td>\n",
       "      <td>...</td>\n",
       "      <td>...</td>\n",
       "      <td>...</td>\n",
       "      <td>...</td>\n",
       "      <td>...</td>\n",
       "      <td>...</td>\n",
       "      <td>...</td>\n",
       "      <td>...</td>\n",
       "      <td>...</td>\n",
       "      <td>...</td>\n",
       "      <td>...</td>\n",
       "      <td>...</td>\n",
       "      <td>...</td>\n",
       "      <td>...</td>\n",
       "      <td>...</td>\n",
       "      <td>...</td>\n",
       "      <td>...</td>\n",
       "      <td>...</td>\n",
       "    </tr>\n",
       "    <tr>\n",
       "      <th>7784</th>\n",
       "      <td>526</td>\n",
       "      <td>531.0</td>\n",
       "      <td>26.0</td>\n",
       "      <td>11.0</td>\n",
       "      <td>11311.000000</td>\n",
       "      <td>5.0</td>\n",
       "      <td>2.0</td>\n",
       "      <td>1.0</td>\n",
       "      <td>5.0</td>\n",
       "      <td>3.0</td>\n",
       "      <td>...</td>\n",
       "      <td>4.000000</td>\n",
       "      <td>3.000000</td>\n",
       "      <td>3.000000</td>\n",
       "      <td>7.000000</td>\n",
       "      <td>7.000000</td>\n",
       "      <td>2.000000</td>\n",
       "      <td>4.000000</td>\n",
       "      <td>4.000000</td>\n",
       "      <td>7.000000</td>\n",
       "      <td>7.000000</td>\n",
       "    </tr>\n",
       "    <tr>\n",
       "      <th>7806</th>\n",
       "      <td>527</td>\n",
       "      <td>531.0</td>\n",
       "      <td>24.0</td>\n",
       "      <td>11.0</td>\n",
       "      <td>15309.000000</td>\n",
       "      <td>5.0</td>\n",
       "      <td>5.0</td>\n",
       "      <td>1.0</td>\n",
       "      <td>4.0</td>\n",
       "      <td>3.0</td>\n",
       "      <td>...</td>\n",
       "      <td>7.365517</td>\n",
       "      <td>8.296552</td>\n",
       "      <td>8.317241</td>\n",
       "      <td>7.868966</td>\n",
       "      <td>7.427586</td>\n",
       "      <td>6.986301</td>\n",
       "      <td>8.013699</td>\n",
       "      <td>7.849315</td>\n",
       "      <td>7.246575</td>\n",
       "      <td>6.876712</td>\n",
       "    </tr>\n",
       "    <tr>\n",
       "      <th>7828</th>\n",
       "      <td>528</td>\n",
       "      <td>531.0</td>\n",
       "      <td>29.0</td>\n",
       "      <td>11.0</td>\n",
       "      <td>33585.000000</td>\n",
       "      <td>8.0</td>\n",
       "      <td>7.0</td>\n",
       "      <td>2.0</td>\n",
       "      <td>6.0</td>\n",
       "      <td>1.0</td>\n",
       "      <td>...</td>\n",
       "      <td>9.000000</td>\n",
       "      <td>8.000000</td>\n",
       "      <td>9.000000</td>\n",
       "      <td>10.000000</td>\n",
       "      <td>10.000000</td>\n",
       "      <td>9.000000</td>\n",
       "      <td>10.000000</td>\n",
       "      <td>9.000000</td>\n",
       "      <td>10.000000</td>\n",
       "      <td>10.000000</td>\n",
       "    </tr>\n",
       "    <tr>\n",
       "      <th>7850</th>\n",
       "      <td>529</td>\n",
       "      <td>531.0</td>\n",
       "      <td>22.0</td>\n",
       "      <td>5.0</td>\n",
       "      <td>26908.000000</td>\n",
       "      <td>4.0</td>\n",
       "      <td>1.0</td>\n",
       "      <td>2.0</td>\n",
       "      <td>4.0</td>\n",
       "      <td>1.0</td>\n",
       "      <td>...</td>\n",
       "      <td>6.000000</td>\n",
       "      <td>10.000000</td>\n",
       "      <td>7.000000</td>\n",
       "      <td>8.000000</td>\n",
       "      <td>7.000000</td>\n",
       "      <td>6.000000</td>\n",
       "      <td>9.000000</td>\n",
       "      <td>7.000000</td>\n",
       "      <td>8.000000</td>\n",
       "      <td>8.000000</td>\n",
       "    </tr>\n",
       "    <tr>\n",
       "      <th>7872</th>\n",
       "      <td>530</td>\n",
       "      <td>531.0</td>\n",
       "      <td>22.0</td>\n",
       "      <td>5.0</td>\n",
       "      <td>20546.485075</td>\n",
       "      <td>1.0</td>\n",
       "      <td>1.0</td>\n",
       "      <td>2.0</td>\n",
       "      <td>7.0</td>\n",
       "      <td>3.0</td>\n",
       "      <td>...</td>\n",
       "      <td>6.000000</td>\n",
       "      <td>9.000000</td>\n",
       "      <td>5.000000</td>\n",
       "      <td>7.000000</td>\n",
       "      <td>5.000000</td>\n",
       "      <td>3.000000</td>\n",
       "      <td>8.000000</td>\n",
       "      <td>8.000000</td>\n",
       "      <td>5.000000</td>\n",
       "      <td>5.000000</td>\n",
       "    </tr>\n",
       "  </tbody>\n",
       "</table>\n",
       "<p>268 rows × 127 columns</p>\n",
       "</div>"
      ],
      "text/plain": [
       "      iid    pid   age  field_cd       tuition  imprace  imprelig  goal  date  \\\n",
       "0       1   11.0  21.0       1.0  20546.485075      2.0       4.0   2.0   7.0   \n",
       "10      2   11.0  24.0       1.0  20546.485075      2.0       5.0   1.0   5.0   \n",
       "20      3   11.0  25.0       2.0  20546.485075      8.0       4.0   6.0   3.0   \n",
       "30      4   11.0  23.0       1.0  20546.485075      1.0       1.0   1.0   5.0   \n",
       "40      5   11.0  21.0       1.0  20546.485075      8.0       1.0   2.0   4.0   \n",
       "...   ...    ...   ...       ...           ...      ...       ...   ...   ...   \n",
       "7784  526  531.0  26.0      11.0  11311.000000      5.0       2.0   1.0   5.0   \n",
       "7806  527  531.0  24.0      11.0  15309.000000      5.0       5.0   1.0   4.0   \n",
       "7828  528  531.0  29.0      11.0  33585.000000      8.0       7.0   2.0   6.0   \n",
       "7850  529  531.0  22.0       5.0  26908.000000      4.0       1.0   2.0   4.0   \n",
       "7872  530  531.0  22.0       5.0  20546.485075      1.0       1.0   2.0   7.0   \n",
       "\n",
       "      go_out  ...   attr3_3    sinc3_3   intel3_3     fun3_3     amb3_3  \\\n",
       "0        1.0  ...  5.000000   7.000000   7.000000   7.000000   7.000000   \n",
       "10       1.0  ...  7.000000   6.000000   9.000000   9.000000   4.000000   \n",
       "20       1.0  ...  7.365517   8.296552   8.317241   7.868966   7.427586   \n",
       "30       1.0  ...  6.000000   5.000000   6.000000   8.000000   5.000000   \n",
       "40       1.0  ...  4.000000   5.000000  10.000000   6.000000  10.000000   \n",
       "...      ...  ...       ...        ...        ...        ...        ...   \n",
       "7784     3.0  ...  4.000000   3.000000   3.000000   7.000000   7.000000   \n",
       "7806     3.0  ...  7.365517   8.296552   8.317241   7.868966   7.427586   \n",
       "7828     1.0  ...  9.000000   8.000000   9.000000  10.000000  10.000000   \n",
       "7850     1.0  ...  6.000000  10.000000   7.000000   8.000000   7.000000   \n",
       "7872     3.0  ...  6.000000   9.000000   5.000000   7.000000   5.000000   \n",
       "\n",
       "       attr5_3    sinc5_3  intel5_3     fun5_3     amb5_3  \n",
       "0     6.986301   8.013699  7.849315   7.246575   6.876712  \n",
       "10    6.986301   8.013699  7.849315   7.246575   6.876712  \n",
       "20    6.986301   8.013699  7.849315   7.246575   6.876712  \n",
       "30    6.986301   8.013699  7.849315   7.246575   6.876712  \n",
       "40    6.986301   8.013699  7.849315   7.246575   6.876712  \n",
       "...        ...        ...       ...        ...        ...  \n",
       "7784  2.000000   4.000000  4.000000   7.000000   7.000000  \n",
       "7806  6.986301   8.013699  7.849315   7.246575   6.876712  \n",
       "7828  9.000000  10.000000  9.000000  10.000000  10.000000  \n",
       "7850  6.000000   9.000000  7.000000   8.000000   8.000000  \n",
       "7872  3.000000   8.000000  8.000000   5.000000   5.000000  \n",
       "\n",
       "[268 rows x 127 columns]"
      ]
     },
     "execution_count": 1146,
     "metadata": {},
     "output_type": "execute_result"
    }
   ],
   "source": [
    "df_female"
   ]
  },
  {
   "cell_type": "code",
   "execution_count": 1148,
   "metadata": {},
   "outputs": [],
   "source": [
    "X = df_union.loc[:, df_union.columns != 'match'].to_numpy()\n",
    "y = df_union['match'].to_numpy()"
   ]
  },
  {
   "cell_type": "code",
   "execution_count": null,
   "metadata": {},
   "outputs": [],
   "source": []
  },
  {
   "cell_type": "code",
   "execution_count": 1149,
   "metadata": {},
   "outputs": [],
   "source": [
    "X_train, X_test, y_train, y_test = train_test_split(X, y, test_size=0.1, stratify=y)"
   ]
  },
  {
   "cell_type": "code",
   "execution_count": 1162,
   "metadata": {},
   "outputs": [],
   "source": [
    "my_clf = MyDecisionTreeClassifier(min_samples_split=2, max_depth=5, criterion='misclassify')\n",
    "my_clf.fit(X_train, y_train)"
   ]
  },
  {
   "cell_type": "code",
   "execution_count": 1161,
   "metadata": {},
   "outputs": [
    {
     "name": "stdout",
     "output_type": "stream",
     "text": [
      "0.8433734939759037\n"
     ]
    }
   ],
   "source": [
    "print(accuracy_score(y_pred=my_clf.predict(X_test), y_true=y_test)) #gini"
   ]
  },
  {
   "cell_type": "code",
   "execution_count": 1163,
   "metadata": {},
   "outputs": [
    {
     "name": "stdout",
     "output_type": "stream",
     "text": [
      "0.8506024096385543\n"
     ]
    }
   ],
   "source": [
    "print(accuracy_score(y_pred=my_clf.predict(X_test), y_true=y_test)) #misclassify"
   ]
  },
  {
   "cell_type": "code",
   "execution_count": 944,
   "metadata": {},
   "outputs": [
    {
     "name": "stdout",
     "output_type": "stream",
     "text": [
      "0.8361445783132531\n"
     ]
    }
   ],
   "source": [
    "print(accuracy_score(y_pred=my_clf.predict(X_test), y_true=y_test)) #entropy"
   ]
  },
  {
   "cell_type": "code",
   "execution_count": null,
   "metadata": {},
   "outputs": [],
   "source": []
  },
  {
   "cell_type": "markdown",
   "metadata": {},
   "source": [
    "Разбейте датасет на трейн и валидацию. Подберите на валидации оптимальный критерий  информативности. \n",
    "Постройте графики зависимости точности на валидации от глубины дерева, от минимального числа объектов для сплита. \n",
    "Какой максимальной точности удалось достигнуть?"
   ]
  },
  {
   "cell_type": "markdown",
   "metadata": {},
   "source": [
    "Самая высокая точность получается при использовании критерия \"ошибка классификации\""
   ]
  },
  {
   "cell_type": "code",
   "execution_count": 1153,
   "metadata": {},
   "outputs": [],
   "source": [
    "from sklearn.model_selection import validation_curve\n",
    "from sklearn.model_selection import StratifiedKFold"
   ]
  },
  {
   "cell_type": "code",
   "execution_count": 1154,
   "metadata": {},
   "outputs": [],
   "source": [
    "acc_val = np.zeros((8, 5))"
   ]
  },
  {
   "cell_type": "code",
   "execution_count": 1165,
   "metadata": {
    "jupyter": {
     "outputs_hidden": true
    }
   },
   "outputs": [],
   "source": [
    "for i in range(2, 10):\n",
    "    for j in range(1, 6):\n",
    "        my_clf = MyDecisionTreeClassifier(min_samples_split=j, max_depth=i, criterion='misclassify')\n",
    "        my_clf.fit(X_train, y_train)\n",
    "        acc_val[i-2, j-1] = accuracy_score(y_pred=my_clf.predict(X_test), y_true=y_test)"
   ]
  },
  {
   "cell_type": "code",
   "execution_count": 1156,
   "metadata": {},
   "outputs": [
    {
     "data": {
      "text/plain": [
       "array([[0.83614458, 0.83614458, 0.83614458, 0.83614458, 0.83614458],\n",
       "       [0.84578313, 0.84578313, 0.84578313, 0.84578313, 0.84578313],\n",
       "       [0.84578313, 0.84578313, 0.84578313, 0.84578313, 0.84578313],\n",
       "       [0.84337349, 0.84337349, 0.84337349, 0.84337349, 0.84337349],\n",
       "       [0.84337349, 0.84337349, 0.84337349, 0.84337349, 0.84337349],\n",
       "       [0.83614458, 0.83614458, 0.83614458, 0.83614458, 0.83614458],\n",
       "       [0.83373494, 0.83373494, 0.83373494, 0.83373494, 0.83373494],\n",
       "       [0.83373494, 0.83373494, 0.83373494, 0.8313253 , 0.8313253 ]])"
      ]
     },
     "execution_count": 1156,
     "metadata": {},
     "output_type": "execute_result"
    }
   ],
   "source": [
    "acc_val"
   ]
  },
  {
   "cell_type": "markdown",
   "metadata": {},
   "source": [
    "Максимальная точность, которую удалось достичь, получилась 0.8795180722891566. Она достигается при максимальной глубине дерева - 7. Минимальное число объектов для сплита несильно влияет на точность.  "
   ]
  },
  {
   "cell_type": "code",
   "execution_count": 1157,
   "metadata": {
    "jupyter": {
     "outputs_hidden": true
    }
   },
   "outputs": [
    {
     "data": {
      "image/png": "[encoded data removed]",
      "text/plain": [
       "<Figure size 1080x1080 with 5 Axes>"
      ]
     },
     "metadata": {
      "needs_background": "light"
     },
     "output_type": "display_data"
    }
   ],
   "source": [
    "point_x = np.arange(2, 10)\n",
    "fig = plt.figure()\n",
    "fig.set_figheight(15)\n",
    "fig.set_figwidth(15)\n",
    "ax1 = fig.add_subplot(321)\n",
    "ax1.set_ylabel('accuracy')\n",
    "ax1.set_title('min_samples_split=1')\n",
    "\n",
    "ax1.plot(point_x, acc_val.T[0]) # plotting by columns\n",
    "ax1.set_xlabel('max_depth')\n",
    "\n",
    "ax1 = fig.add_subplot(322)\n",
    "ax1.set_ylabel('accuracy')\n",
    "ax1.set_title('min_samples_split=2')\n",
    "ax1.plot(point_x, acc_val.T[1]) # plotting by columns\n",
    "ax1.set_xlabel('max_depth')\n",
    "\n",
    "ax1 = fig.add_subplot(323)\n",
    "ax1.set_ylabel('accuracy')\n",
    "ax1.set_title('min_samples_split=3')\n",
    "ax1.plot(point_x, acc_val.T[2]) # plotting by columns\n",
    "ax1.set_xlabel('max_depth')\n",
    "\n",
    "ax1 = fig.add_subplot(324)\n",
    "ax1.set_ylabel('accuracy')\n",
    "ax1.set_title('min_samples_split=4')\n",
    "ax1.plot(point_x, acc_val.T[3]) # plotting by columns\n",
    "ax1.set_xlabel('max_depth')\n",
    "\n",
    "ax1 = fig.add_subplot(325)\n",
    "ax1.set_ylabel('accuracy')\n",
    "ax1.set_title('min_samples_split=5')\n",
    "ax1.plot(point_x, acc_val.T[4]) # plotting by columns\n",
    "ax1.set_xlabel('max_depth')\n",
    "\n",
    "plt.show()"
   ]
  },
  {
   "cell_type": "code",
   "execution_count": null,
   "metadata": {},
   "outputs": [],
   "source": []
  },
  {
   "cell_type": "markdown",
   "metadata": {},
   "source": [
    "## Находим самые важные признаки (2 балла)\n",
    "\n"
   ]
  },
  {
   "cell_type": "markdown",
   "metadata": {},
   "source": [
    "По построенному дереву  легко понять, какие признаки лучше всего помогли решить задачу. Часто это бывает нужно  не только  для сокращения размерности в данных, но и для лучшего понимания прикладной задачи. Например, Вы хотите понять, какие признаки стоит еще конструировать -- для этого нужно понимать, какие из текущих лучше всего работают в дереве. "
   ]
  },
  {
   "cell_type": "markdown",
   "metadata": {},
   "source": [
    "Самый простой метод -- посчитать число сплитов, где использовался данные признак. Это не лучший вариант, так как по признаку который принимает всего 2 значения, но который почти точно разделяет выборку, число сплитов будет очень 1, но при этом признак сам очень хороший. \n",
    "В этом задании предлагается для каждого признака считать суммарный gain (в лекции обозначено как Q) при использовании этого признака в сплите. Тогда даже у очень хороших признаков с маленьким число сплитов это значение должно быть довольно высоким.  "
   ]
  },
  {
   "cell_type": "markdown",
   "metadata": {},
   "source": [
    "Реализовать это довольно просто: создаете словарь номер фичи : суммарный гейн и добавляете в нужную фичу каждый раз, когда используете ее при построении дерева. "
   ]
  },
  {
   "cell_type": "markdown",
   "metadata": {},
   "source": [
    "Добавьте функционал, который определяет значения feature importance. Обучите дерево на датасете Speed Dating Data.\n",
    "Выведите 10 главных фичей по важности."
   ]
  },
  {
   "cell_type": "code",
   "execution_count": 1158,
   "metadata": {
    "jupyter": {
     "outputs_hidden": true
    }
   },
   "outputs": [],
   "source": [
    "my_clf = MyDecisionTreeClassifier(min_samples_split=2, max_depth=5, criterion='gini')\n",
    "my_clf.fit(X_train, y_train)"
   ]
  },
  {
   "cell_type": "code",
   "execution_count": 997,
   "metadata": {
    "jupyter": {
     "outputs_hidden": true
    }
   },
   "outputs": [
    {
     "data": {
      "text/plain": [
       "0.8626506024096385"
      ]
     },
     "execution_count": 997,
     "metadata": {},
     "output_type": "execute_result"
    }
   ],
   "source": [
    "accuracy_score(y_pred=my_clf.predict(X_test), y_true=y_test)"
   ]
  },
  {
   "cell_type": "code",
   "execution_count": 1012,
   "metadata": {},
   "outputs": [
    {
     "name": "stdout",
     "output_type": "stream",
     "text": [
      "[5, 42, 30, 163, 38, 174, 194, 166, 129, 52]\n",
      "['field_cdf', 'attr1_sf', 'amb3_1f', 'shar', 'likef', 'attr3_s', 'attr4_2', 'met', 'pid', 'amb3_sf']\n"
     ]
    }
   ],
   "source": [
    "pop_feat = my_clf.get_feature_importance()\n",
    "# pop_feat = dict(sorted(pop_feat.items(), key=lambda item: item[1], reverse=True))\n",
    "# print(list(pop_feat.keys())[:10])\n",
    "top = sorted(pop_feat, key=pop_feat.get, reverse=True)[:10]\n",
    "print(top)\n",
    "print(list(df_union.columns[top]))\n",
    "# print(pop_feat)"
   ]
  },
  {
   "cell_type": "markdown",
   "metadata": {},
   "source": [
    "## Фидбек (бесценно)"
   ]
  },
  {
   "cell_type": "markdown",
   "metadata": {},
   "source": [
    "* Какие аспекты обучения деревьев решений Вам показались непонятными? Какое место стоит дополнительно объяснить?"
   ]
  },
  {
   "cell_type": "markdown",
   "metadata": {},
   "source": [
    "### Ваш ответ здесь"
   ]
  },
  {
   "cell_type": "markdown",
   "metadata": {},
   "source": [
    "* Здесь Вы можете оставить отзыв о этой домашней работе или о всем курсе."
   ]
  },
  {
   "cell_type": "markdown",
   "metadata": {},
   "source": [
    "### ВАШ ОТЗЫВ ЗДЕСЬ\n",
    "\n"
   ]
  },
  {
   "cell_type": "code",
   "execution_count": null,
   "metadata": {
    "jupyter": {
     "outputs_hidden": true
    }
   },
   "outputs": [],
   "source": []
  },
  {
   "cell_type": "code",
   "execution_count": null,
   "metadata": {
    "jupyter": {
     "outputs_hidden": true
    }
   },
   "outputs": [],
   "source": []
  }
 ],
 "metadata": {
  "anaconda-cloud": {},
  "kernelspec": {
   "display_name": "Python 3",
   "language": "python",
   "name": "python3"
  },
  "language_info": {
   "codemirror_mode": {
    "name": "ipython",
    "version": 3
   },
   "file_extension": ".py",
   "mimetype": "text/x-python",
   "name": "python",
   "nbconvert_exporter": "python",
   "pygments_lexer": "ipython3",
   "version": "3.7.10"
  },
  "widgets": {
   "application/vnd.jupyter.widget-state+json": {
    "state": {},
    "version_major": 2,
    "version_minor": 0
   }
  }
 },
 "nbformat": 4,
 "nbformat_minor": 4
}
